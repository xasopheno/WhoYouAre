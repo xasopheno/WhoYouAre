{
 "cells": [
  {
   "cell_type": "markdown",
   "metadata": {},
   "source": [
    "## Imports"
   ]
  },
  {
   "cell_type": "code",
   "execution_count": 1,
   "metadata": {},
   "outputs": [
    {
     "name": "stderr",
     "output_type": "stream",
     "text": [
      "/Users/dannymeyer/anaconda3/lib/python3.6/site-packages/h5py/__init__.py:36: FutureWarning: Conversion of the second argument of issubdtype from `float` to `np.floating` is deprecated. In future, it will be treated as `np.float64 == np.dtype(float).type`.\n",
      "  from ._conv import register_converters as _register_converters\n",
      "Using TensorFlow backend.\n"
     ]
    }
   ],
   "source": [
    "import numpy as np\n",
    "import time\n",
    "import datetime\n",
    "import random\n",
    "\n",
    "from keras.callbacks import LambdaCallback\n",
    "from keras.utils import plot_model\n",
    "from keras.callbacks import TensorBoard\n",
    "\n",
    "from pandas import read_csv\n",
    "from Audio.Components.MidiPlayer import MidiPlayer\n",
    "\n",
    "from keras.utils.vis_utils import model_to_dot\n",
    "from keras.callbacks import LearningRateScheduler\n",
    "from matplotlib import pyplot\n",
    "from IPython.display import SVG\n",
    "import pydot\n",
    "import graphviz\n",
    "\n",
    "from NN.models.windowed_model import create_model\n",
    "# from NN.models.separate_model import create_model\n",
    "\n",
    "from Audio.Components.helpers.prepare_arrays import prepare_notes, prepare_lengths\n",
    "from Audio.Components.helpers.save_model import save_model\n",
    "from Audio.Components.helpers.make_encoded_prediction import make_encoded_prediction\n",
    "from Audio.Components.helpers.create_categorical_indicies import create_category_indicies\n",
    "from Audio.Components.helpers.generate_phrases import generate_phrases\n",
    "from Audio.Components.helpers.decode_predictions import decode_predictions\n",
    "from Audio.Components.helpers.play_generated_phrase import play_generated_phrase\n",
    "from Audio.Components.helpers.vectorize_phrases import vectorize_phrases\n",
    "from Audio.Components.helpers.logger import logger\n",
    "import constants"
   ]
  },
  {
   "cell_type": "markdown",
   "metadata": {
    "collapsed": true
   },
   "source": [
    "## Constants"
   ]
  },
  {
   "cell_type": "code",
   "execution_count": 2,
   "metadata": {},
   "outputs": [
    {
     "name": "stdout",
     "output_type": "stream",
     "text": [
      "['IAC Driver Bus 1', 'IAC Driver LocalMidi']\n"
     ]
    }
   ],
   "source": [
    "dropout = constants.dropout\n",
    "n_time_steps = constants.n_time_steps\n",
    "semi_redundancy_step = constants.semi_redundancy_step\n",
    "lstm_size = constants.lstm_size\n",
    "lr = constants.lr\n",
    "epochs = constants.epochs\n",
    "batch_size = constants.batch_size\n",
    "n_to_generate = constants.n_to_generate"
   ]
  },
  {
   "cell_type": "code",
   "execution_count": 3,
   "metadata": {},
   "outputs": [
    {
     "name": "stdout",
     "output_type": "stream",
     "text": [
      "          **********************************\n",
      "            PREPROCESSING\n",
      "          **********************************\n",
      "corpus length: 27587\n"
     ]
    }
   ],
   "source": [
    "logger('PREPROCESSING')\n",
    "corpus = read_csv('Audio/data/input.csv', header=1)\n",
    "print('corpus length:', len(corpus))\n",
    "notes_corpus = corpus.values[:, 0]\n",
    "length_corpus = corpus.values[:, 1]"
   ]
  },
  {
   "cell_type": "code",
   "execution_count": 4,
   "metadata": {
    "collapsed": true
   },
   "outputs": [],
   "source": [
    "categorized_variables = {\n",
    "    'note_categories': prepare_notes(),\n",
    "    'length_categories': prepare_lengths()\n",
    "}"
   ]
  },
  {
   "cell_type": "code",
   "execution_count": 5,
   "metadata": {
    "collapsed": true
   },
   "outputs": [],
   "source": [
    "note_index, index_note = create_category_indicies(categorized_variables['note_categories'])\n",
    "lengths_index, index_lengths = create_category_indicies(categorized_variables['length_categories'])\n",
    "\n",
    "lookup_indicies = {\n",
    "    'note_index': note_index,\n",
    "    'index_note': index_note,\n",
    "    'lengths_index': lengths_index,\n",
    "    'index_lengths': index_lengths,\n",
    "}\n",
    "\n",
    "note_phrases, next_note = generate_phrases(notes_corpus, n_time_steps, semi_redundancy_step)\n",
    "length_phrases, next_length = generate_phrases(length_corpus, n_time_steps, semi_redundancy_step)"
   ]
  },
  {
   "cell_type": "code",
   "execution_count": 6,
   "metadata": {},
   "outputs": [
    {
     "name": "stdout",
     "output_type": "stream",
     "text": [
      "(27567, 20, 128) note_x.shape\n",
      "(27567, 20, 141) length_x.shape\n",
      "(27567, 128) note_y.shape\n",
      "(27567, 141) length_y.shape\n"
     ]
    }
   ],
   "source": [
    "note_x, note_y = vectorize_phrases(\n",
    "    phrases=note_phrases,\n",
    "    n_categories=len(categorized_variables['note_categories']),\n",
    "    n_time_steps=n_time_steps,\n",
    "    lookup_index=lookup_indicies['note_index'],\n",
    "    next_lookup_index=next_note\n",
    "    )\n",
    "\n",
    "length_x, length_y = vectorize_phrases(\n",
    "    phrases=length_phrases,\n",
    "    n_categories=len(categorized_variables['length_categories']),\n",
    "    n_time_steps=n_time_steps,\n",
    "    lookup_index=lookup_indicies['lengths_index'],\n",
    "    next_lookup_index=next_length\n",
    ")\n",
    "\n",
    "print(note_x.shape, 'note_x.shape')\n",
    "print(length_x.shape, 'length_x.shape')\n",
    "print(note_y.shape, 'note_y.shape')\n",
    "print(length_y.shape, 'length_y.shape')"
   ]
  },
  {
   "cell_type": "code",
   "execution_count": 7,
   "metadata": {
    "collapsed": true
   },
   "outputs": [],
   "source": [
    "model = create_model(\n",
    "    categorized_variables=categorized_variables,\n",
    "    lstm_size=lstm_size,\n",
    "    lr=0.001,\n",
    "    n_time_steps=n_time_steps,)"
   ]
  },
  {
   "cell_type": "code",
   "execution_count": 8,
   "metadata": {},
   "outputs": [
    {
     "name": "stdout",
     "output_type": "stream",
     "text": [
      "__________________________________________________________________________________________________\n",
      "Layer (type)                    Output Shape         Param #     Connected to                     \n",
      "==================================================================================================\n",
      "note_input (InputLayer)         (None, 20, 128)      0                                            \n",
      "__________________________________________________________________________________________________\n",
      "length_input (InputLayer)       (None, 20, 141)      0                                            \n",
      "__________________________________________________________________________________________________\n",
      "bidirectional_1 (Bidirectional) (None, 20, 256)      263168      note_input[0][0]                 \n",
      "__________________________________________________________________________________________________\n",
      "bidirectional_2 (Bidirectional) (None, 20, 256)      276480      length_input[0][0]               \n",
      "__________________________________________________________________________________________________\n",
      "lstm_4 (LSTM)                   (None, 20, 32)       36992       bidirectional_2[0][0]            \n",
      "__________________________________________________________________________________________________\n",
      "lstm_2 (LSTM)                   (None, 20, 32)       36992       bidirectional_1[0][0]            \n",
      "__________________________________________________________________________________________________\n",
      "concatenate_2 (Concatenate)     (None, 20, 288)      0           bidirectional_1[0][0]            \n",
      "                                                                 lstm_4[0][0]                     \n",
      "__________________________________________________________________________________________________\n",
      "concatenate_1 (Concatenate)     (None, 20, 288)      0           bidirectional_2[0][0]            \n",
      "                                                                 lstm_2[0][0]                     \n",
      "__________________________________________________________________________________________________\n",
      "lstm_6 (LSTM)                   (None, 128)          213504      concatenate_2[0][0]              \n",
      "__________________________________________________________________________________________________\n",
      "lstm_5 (LSTM)                   (None, 128)          213504      concatenate_1[0][0]              \n",
      "__________________________________________________________________________________________________\n",
      "note_output (Dense)             (None, 128)          16512       lstm_6[0][0]                     \n",
      "__________________________________________________________________________________________________\n",
      "length_output (Dense)           (None, 141)          18189       lstm_5[0][0]                     \n",
      "==================================================================================================\n",
      "Total params: 1,075,341\n",
      "Trainable params: 1,075,341\n",
      "Non-trainable params: 0\n",
      "__________________________________________________________________________________________________\n"
     ]
    }
   ],
   "source": [
    "model.summary()"
   ]
  },
  {
   "cell_type": "code",
   "execution_count": 9,
   "metadata": {},
   "outputs": [
    {
     "data": {
      "image/svg+xml": [
       "<svg height=\"483pt\" viewBox=\"0.00 0.00 540.33 483.00\" width=\"540pt\" xmlns=\"http://www.w3.org/2000/svg\" xmlns:xlink=\"http://www.w3.org/1999/xlink\">\n",
       "<g class=\"graph\" id=\"graph0\" transform=\"scale(1 1) rotate(0) translate(4 479)\">\n",
       "<title>G</title>\n",
       "<polygon fill=\"#ffffff\" points=\"-4,4 -4,-479 536.335,-479 536.335,4 -4,4\" stroke=\"transparent\"/>\n",
       "<!-- 103652848752 -->\n",
       "<g class=\"node\" id=\"node1\">\n",
       "<title>103652848752</title>\n",
       "<polygon fill=\"none\" points=\"321.9346,-438.5 321.9346,-474.5 467.4004,-474.5 467.4004,-438.5 321.9346,-438.5\" stroke=\"#000000\"/>\n",
       "<text fill=\"#000000\" font-family=\"Times,serif\" font-size=\"14.00\" text-anchor=\"middle\" x=\"394.6675\" y=\"-452.3\">note_input: InputLayer</text>\n",
       "</g>\n",
       "<!-- 103652882920 -->\n",
       "<g class=\"node\" id=\"node3\">\n",
       "<title>103652882920</title>\n",
       "<polygon fill=\"none\" points=\"257,-365.5 257,-401.5 532.335,-401.5 532.335,-365.5 257,-365.5\" stroke=\"#000000\"/>\n",
       "<text fill=\"#000000\" font-family=\"Times,serif\" font-size=\"14.00\" text-anchor=\"middle\" x=\"394.6675\" y=\"-379.3\">bidirectional_1(lstm_1): Bidirectional(LSTM)</text>\n",
       "</g>\n",
       "<!-- 103652848752&#45;&gt;103652882920 -->\n",
       "<g class=\"edge\" id=\"edge1\">\n",
       "<title>103652848752-&gt;103652882920</title>\n",
       "<path d=\"M394.6675,-438.4551C394.6675,-430.3828 394.6675,-420.6764 394.6675,-411.6817\" fill=\"none\" stroke=\"#000000\"/>\n",
       "<polygon fill=\"#000000\" points=\"398.1676,-411.5903 394.6675,-401.5904 391.1676,-411.5904 398.1676,-411.5903\" stroke=\"#000000\"/>\n",
       "</g>\n",
       "<!-- 103652450032 -->\n",
       "<g class=\"node\" id=\"node2\">\n",
       "<title>103652450032</title>\n",
       "<polygon fill=\"none\" points=\"59.4897,-365.5 59.4897,-401.5 215.8452,-401.5 215.8452,-365.5 59.4897,-365.5\" stroke=\"#000000\"/>\n",
       "<text fill=\"#000000\" font-family=\"Times,serif\" font-size=\"14.00\" text-anchor=\"middle\" x=\"137.6675\" y=\"-379.3\">length_input: InputLayer</text>\n",
       "</g>\n",
       "<!-- 103834804008 -->\n",
       "<g class=\"node\" id=\"node4\">\n",
       "<title>103834804008</title>\n",
       "<polygon fill=\"none\" points=\"0,-292.5 0,-328.5 275.335,-328.5 275.335,-292.5 0,-292.5\" stroke=\"#000000\"/>\n",
       "<text fill=\"#000000\" font-family=\"Times,serif\" font-size=\"14.00\" text-anchor=\"middle\" x=\"137.6675\" y=\"-306.3\">bidirectional_2(lstm_3): Bidirectional(LSTM)</text>\n",
       "</g>\n",
       "<!-- 103652450032&#45;&gt;103834804008 -->\n",
       "<g class=\"edge\" id=\"edge2\">\n",
       "<title>103652450032-&gt;103834804008</title>\n",
       "<path d=\"M137.6675,-365.4551C137.6675,-357.3828 137.6675,-347.6764 137.6675,-338.6817\" fill=\"none\" stroke=\"#000000\"/>\n",
       "<polygon fill=\"#000000\" points=\"141.1676,-338.5903 137.6675,-328.5904 134.1676,-338.5904 141.1676,-338.5903\" stroke=\"#000000\"/>\n",
       "</g>\n",
       "<!-- 103652883424 -->\n",
       "<g class=\"node\" id=\"node6\">\n",
       "<title>103652883424</title>\n",
       "<polygon fill=\"none\" points=\"357.2451,-292.5 357.2451,-328.5 456.0898,-328.5 456.0898,-292.5 357.2451,-292.5\" stroke=\"#000000\"/>\n",
       "<text fill=\"#000000\" font-family=\"Times,serif\" font-size=\"14.00\" text-anchor=\"middle\" x=\"406.6675\" y=\"-306.3\">lstm_2: LSTM</text>\n",
       "</g>\n",
       "<!-- 103652882920&#45;&gt;103652883424 -->\n",
       "<g class=\"edge\" id=\"edge4\">\n",
       "<title>103652882920-&gt;103652883424</title>\n",
       "<path d=\"M397.6338,-365.4551C398.9607,-357.3828 400.5563,-347.6764 402.0349,-338.6817\" fill=\"none\" stroke=\"#000000\"/>\n",
       "<polygon fill=\"#000000\" points=\"405.5252,-339.0257 403.6937,-328.5904 398.6179,-337.8902 405.5252,-339.0257\" stroke=\"#000000\"/>\n",
       "</g>\n",
       "<!-- 103843006280 -->\n",
       "<g class=\"node\" id=\"node7\">\n",
       "<title>103843006280</title>\n",
       "<polygon fill=\"none\" points=\"159.3481,-146.5 159.3481,-182.5 331.9868,-182.5 331.9868,-146.5 159.3481,-146.5\" stroke=\"#000000\"/>\n",
       "<text fill=\"#000000\" font-family=\"Times,serif\" font-size=\"14.00\" text-anchor=\"middle\" x=\"245.6675\" y=\"-160.3\">concatenate_2: Concatenate</text>\n",
       "</g>\n",
       "<!-- 103652882920&#45;&gt;103843006280 -->\n",
       "<g class=\"edge\" id=\"edge5\">\n",
       "<title>103652882920-&gt;103843006280</title>\n",
       "<path d=\"M378.2411,-365.362C369.1485,-355.0033 357.8614,-341.6039 348.6675,-329 314.7252,-282.4687 280.19,-224.7381 260.9857,-191.508\" fill=\"none\" stroke=\"#000000\"/>\n",
       "<polygon fill=\"#000000\" points=\"264.0068,-189.7404 255.9889,-182.8148 257.9379,-193.2288 264.0068,-189.7404\" stroke=\"#000000\"/>\n",
       "</g>\n",
       "<!-- 103834920552 -->\n",
       "<g class=\"node\" id=\"node5\">\n",
       "<title>103834920552</title>\n",
       "<polygon fill=\"none\" points=\"133.2451,-219.5 133.2451,-255.5 232.0898,-255.5 232.0898,-219.5 133.2451,-219.5\" stroke=\"#000000\"/>\n",
       "<text fill=\"#000000\" font-family=\"Times,serif\" font-size=\"14.00\" text-anchor=\"middle\" x=\"182.6675\" y=\"-233.3\">lstm_4: LSTM</text>\n",
       "</g>\n",
       "<!-- 103834804008&#45;&gt;103834920552 -->\n",
       "<g class=\"edge\" id=\"edge3\">\n",
       "<title>103834804008-&gt;103834920552</title>\n",
       "<path d=\"M148.7911,-292.4551C154.0375,-283.9441 160.4039,-273.6165 166.1951,-264.2219\" fill=\"none\" stroke=\"#000000\"/>\n",
       "<polygon fill=\"#000000\" points=\"169.2478,-265.9396 171.5159,-255.5904 163.289,-262.2663 169.2478,-265.9396\" stroke=\"#000000\"/>\n",
       "</g>\n",
       "<!-- 103841512696 -->\n",
       "<g class=\"node\" id=\"node8\">\n",
       "<title>103841512696</title>\n",
       "<polygon fill=\"none\" points=\"331.3481,-219.5 331.3481,-255.5 503.9868,-255.5 503.9868,-219.5 331.3481,-219.5\" stroke=\"#000000\"/>\n",
       "<text fill=\"#000000\" font-family=\"Times,serif\" font-size=\"14.00\" text-anchor=\"middle\" x=\"417.6675\" y=\"-233.3\">concatenate_1: Concatenate</text>\n",
       "</g>\n",
       "<!-- 103834804008&#45;&gt;103841512696 -->\n",
       "<g class=\"edge\" id=\"edge7\">\n",
       "<title>103834804008-&gt;103841512696</title>\n",
       "<path d=\"M206.881,-292.4551C246.7613,-282.0577 297.0411,-268.949 338.491,-258.1424\" fill=\"none\" stroke=\"#000000\"/>\n",
       "<polygon fill=\"#000000\" points=\"339.4863,-261.5 348.2798,-255.5904 337.7202,-254.7265 339.4863,-261.5\" stroke=\"#000000\"/>\n",
       "</g>\n",
       "<!-- 103834920552&#45;&gt;103843006280 -->\n",
       "<g class=\"edge\" id=\"edge6\">\n",
       "<title>103834920552-&gt;103843006280</title>\n",
       "<path d=\"M198.2405,-219.4551C205.8127,-210.6809 215.0513,-199.9759 223.356,-190.353\" fill=\"none\" stroke=\"#000000\"/>\n",
       "<polygon fill=\"#000000\" points=\"226.1714,-192.4477 230.0553,-182.5904 220.872,-187.8742 226.1714,-192.4477\" stroke=\"#000000\"/>\n",
       "</g>\n",
       "<!-- 103652883424&#45;&gt;103841512696 -->\n",
       "<g class=\"edge\" id=\"edge8\">\n",
       "<title>103652883424-&gt;103841512696</title>\n",
       "<path d=\"M409.3866,-292.4551C410.6029,-284.3828 412.0656,-274.6764 413.4209,-265.6817\" fill=\"none\" stroke=\"#000000\"/>\n",
       "<polygon fill=\"#000000\" points=\"416.9124,-266.0003 414.9415,-255.5904 409.9905,-264.9572 416.9124,-266.0003\" stroke=\"#000000\"/>\n",
       "</g>\n",
       "<!-- 103844041392 -->\n",
       "<g class=\"node\" id=\"node9\">\n",
       "<title>103844041392</title>\n",
       "<polygon fill=\"none\" points=\"196.2451,-73.5 196.2451,-109.5 295.0898,-109.5 295.0898,-73.5 196.2451,-73.5\" stroke=\"#000000\"/>\n",
       "<text fill=\"#000000\" font-family=\"Times,serif\" font-size=\"14.00\" text-anchor=\"middle\" x=\"245.6675\" y=\"-87.3\">lstm_6: LSTM</text>\n",
       "</g>\n",
       "<!-- 103843006280&#45;&gt;103844041392 -->\n",
       "<g class=\"edge\" id=\"edge9\">\n",
       "<title>103843006280-&gt;103844041392</title>\n",
       "<path d=\"M245.6675,-146.4551C245.6675,-138.3828 245.6675,-128.6764 245.6675,-119.6817\" fill=\"none\" stroke=\"#000000\"/>\n",
       "<polygon fill=\"#000000\" points=\"249.1676,-119.5903 245.6675,-109.5904 242.1676,-119.5904 249.1676,-119.5903\" stroke=\"#000000\"/>\n",
       "</g>\n",
       "<!-- 103841624752 -->\n",
       "<g class=\"node\" id=\"node10\">\n",
       "<title>103841624752</title>\n",
       "<polygon fill=\"none\" points=\"368.2451,-146.5 368.2451,-182.5 467.0898,-182.5 467.0898,-146.5 368.2451,-146.5\" stroke=\"#000000\"/>\n",
       "<text fill=\"#000000\" font-family=\"Times,serif\" font-size=\"14.00\" text-anchor=\"middle\" x=\"417.6675\" y=\"-160.3\">lstm_5: LSTM</text>\n",
       "</g>\n",
       "<!-- 103841512696&#45;&gt;103841624752 -->\n",
       "<g class=\"edge\" id=\"edge10\">\n",
       "<title>103841512696-&gt;103841624752</title>\n",
       "<path d=\"M417.6675,-219.4551C417.6675,-211.3828 417.6675,-201.6764 417.6675,-192.6817\" fill=\"none\" stroke=\"#000000\"/>\n",
       "<polygon fill=\"#000000\" points=\"421.1676,-192.5903 417.6675,-182.5904 414.1676,-192.5904 421.1676,-192.5903\" stroke=\"#000000\"/>\n",
       "</g>\n",
       "<!-- 103845871232 -->\n",
       "<g class=\"node\" id=\"node11\">\n",
       "<title>103845871232</title>\n",
       "<polygon fill=\"none\" points=\"183.0381,-.5 183.0381,-36.5 308.2969,-36.5 308.2969,-.5 183.0381,-.5\" stroke=\"#000000\"/>\n",
       "<text fill=\"#000000\" font-family=\"Times,serif\" font-size=\"14.00\" text-anchor=\"middle\" x=\"245.6675\" y=\"-14.3\">note_output: Dense</text>\n",
       "</g>\n",
       "<!-- 103844041392&#45;&gt;103845871232 -->\n",
       "<g class=\"edge\" id=\"edge11\">\n",
       "<title>103844041392-&gt;103845871232</title>\n",
       "<path d=\"M245.6675,-73.4551C245.6675,-65.3828 245.6675,-55.6764 245.6675,-46.6817\" fill=\"none\" stroke=\"#000000\"/>\n",
       "<polygon fill=\"#000000\" points=\"249.1676,-46.5903 245.6675,-36.5904 242.1676,-46.5904 249.1676,-46.5903\" stroke=\"#000000\"/>\n",
       "</g>\n",
       "<!-- 103848467984 -->\n",
       "<g class=\"node\" id=\"node12\">\n",
       "<title>103848467984</title>\n",
       "<polygon fill=\"none\" points=\"349.5933,-73.5 349.5933,-109.5 485.7417,-109.5 485.7417,-73.5 349.5933,-73.5\" stroke=\"#000000\"/>\n",
       "<text fill=\"#000000\" font-family=\"Times,serif\" font-size=\"14.00\" text-anchor=\"middle\" x=\"417.6675\" y=\"-87.3\">length_output: Dense</text>\n",
       "</g>\n",
       "<!-- 103841624752&#45;&gt;103848467984 -->\n",
       "<g class=\"edge\" id=\"edge12\">\n",
       "<title>103841624752-&gt;103848467984</title>\n",
       "<path d=\"M417.6675,-146.4551C417.6675,-138.3828 417.6675,-128.6764 417.6675,-119.6817\" fill=\"none\" stroke=\"#000000\"/>\n",
       "<polygon fill=\"#000000\" points=\"421.1676,-119.5903 417.6675,-109.5904 414.1676,-119.5904 421.1676,-119.5903\" stroke=\"#000000\"/>\n",
       "</g>\n",
       "</g>\n",
       "</svg>"
      ],
      "text/plain": [
       "<IPython.core.display.SVG object>"
      ]
     },
     "execution_count": 9,
     "metadata": {},
     "output_type": "execute_result"
    }
   ],
   "source": [
    "SVG(model_to_dot(model).create(prog='dot', format='svg'))"
   ]
  },
  {
   "cell_type": "code",
   "execution_count": 10,
   "metadata": {
    "collapsed": true
   },
   "outputs": [],
   "source": []
  },
  {
   "cell_type": "code",
   "execution_count": null,
   "metadata": {
    "collapsed": true
   },
   "outputs": [],
   "source": []
  },
  {
   "cell_type": "code",
   "execution_count": null,
   "metadata": {
    "collapsed": true
   },
   "outputs": [],
   "source": []
  },
  {
   "cell_type": "code",
   "execution_count": null,
   "metadata": {
    "collapsed": true
   },
   "outputs": [],
   "source": []
  },
  {
   "cell_type": "code",
   "execution_count": null,
   "metadata": {
    "collapsed": true
   },
   "outputs": [],
   "source": [
    "listen_callback = LambdaCallback(on_epoch_end=listen_callback)"
   ]
  },
  {
   "cell_type": "code",
   "execution_count": null,
   "metadata": {
    "collapsed": true,
    "scrolled": false
   },
   "outputs": [],
   "source": [
    "logger('TRAINING')\n",
    "model.fit([note_x, length_x], [note_y, length_y],\n",
    "          batch_size=batch_size,\n",
    "          epochs=epochs,\n",
    "          callbacks=[\n",
    "              listen_callback,\n",
    "              tensorboard,\n",
    "            ]\n",
    "          )"
   ]
  },
  {
   "cell_type": "code",
   "execution_count": null,
   "metadata": {
    "collapsed": true
   },
   "outputs": [],
   "source": [
    "save_model(model, 'model_2')"
   ]
  },
  {
   "cell_type": "code",
   "execution_count": null,
   "metadata": {
    "collapsed": true
   },
   "outputs": [],
   "source": []
  }
 ],
 "metadata": {
  "kernelspec": {
   "display_name": "Python 3",
   "language": "python",
   "name": "python3"
  },
  "language_info": {
   "codemirror_mode": {
    "name": "ipython",
    "version": 3
   },
   "file_extension": ".py",
   "mimetype": "text/x-python",
   "name": "python",
   "nbconvert_exporter": "python",
   "pygments_lexer": "ipython3",
   "version": "3.6.4"
  }
 },
 "nbformat": 4,
 "nbformat_minor": 1
}
