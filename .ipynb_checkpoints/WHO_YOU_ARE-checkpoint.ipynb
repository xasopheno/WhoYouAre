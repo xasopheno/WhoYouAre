{
 "cells": [
  {
   "cell_type": "markdown",
   "metadata": {},
   "source": [
    "## Imports"
   ]
  },
  {
   "cell_type": "code",
   "execution_count": 1,
   "metadata": {},
   "outputs": [
    {
     "name": "stderr",
     "output_type": "stream",
     "text": [
      "/usr/local/lib/python3.6/site-packages/h5py/__init__.py:36: FutureWarning: Conversion of the second argument of issubdtype from `float` to `np.floating` is deprecated. In future, it will be treated as `np.float64 == np.dtype(float).type`.\n",
      "  from ._conv import register_converters as _register_converters\n",
      "Using TensorFlow backend.\n"
     ]
    }
   ],
   "source": [
    "import numpy as np\n",
    "import time\n",
    "import datetime\n",
    "import random\n",
    "\n",
    "from keras.callbacks import LambdaCallback\n",
    "from keras.utils import plot_model\n",
    "from keras.callbacks import TensorBoard\n",
    "\n",
    "from pandas import read_csv\n",
    "from Audio.Components.MidiPlayer import MidiPlayer\n",
    "\n",
    "from keras.utils.vis_utils import model_to_dot\n",
    "from keras.callbacks import LearningRateScheduler\n",
    "from matplotlib import pyplot\n",
    "from IPython.display import SVG\n",
    "import pydot\n",
    "import graphviz\n",
    "\n",
    "from NN.networks.simple_model import create_model\n",
    "\n",
    "from Audio.Components.helpers.prepare_arrays import prepare_notes, prepare_lengths\n",
    "from Audio.Components.helpers.save_model import save_model\n",
    "from Audio.Components.helpers.make_encoded_prediction import make_encoded_prediction\n",
    "from Audio.Components.helpers.create_categorical_indicies import create_category_indicies\n",
    "from Audio.Components.helpers.generate_phrases import generate_phrases\n",
    "from Audio.Components.helpers.decode_predictions import decode_predictions\n",
    "from Audio.Components.helpers.play_generated_phrase import play_generated_phrase\n",
    "from Audio.Components.helpers.vectorize_phrases import vectorize_phrases\n",
    "from Audio.Components.helpers.logger import logger\n",
    "import constants"
   ]
  },
  {
   "cell_type": "markdown",
   "metadata": {
    "collapsed": true
   },
   "source": [
    "## Constants"
   ]
  },
  {
   "cell_type": "code",
   "execution_count": 2,
   "metadata": {},
   "outputs": [
    {
     "name": "stdout",
     "output_type": "stream",
     "text": [
      "['Danny Bus 1', 'Danny IAC Bus 2']\n"
     ]
    }
   ],
   "source": [
    "player = MidiPlayer()\n",
    "dropout = 0.5\n",
    "n_time_steps = constants.n_time_steps\n",
    "semi_redundancy_step = constants.semi_redundancy_step\n",
    "lstm_size = 10\n",
    "lr = constants.lr\n",
    "epochs = constants.epochs\n",
    "batch_size = constants.batch_size\n",
    "n_to_generate = constants.n_to_generate"
   ]
  },
  {
   "cell_type": "code",
   "execution_count": 3,
   "metadata": {},
   "outputs": [
    {
     "name": "stdout",
     "output_type": "stream",
     "text": [
      "          **********************************\n",
      "            PREPROCESSING\n",
      "          **********************************\n",
      "corpus length: 45610\n"
     ]
    }
   ],
   "source": [
    "logger('PREPROCESSING')\n",
    "corpus = read_csv('Audio/data/input.csv', header=1)\n",
    "print('corpus length:', len(corpus))\n",
    "notes_corpus = corpus.values[:, 0]\n",
    "length_corpus = corpus.values[:, 1]"
   ]
  },
  {
   "cell_type": "code",
   "execution_count": 4,
   "metadata": {
    "collapsed": true
   },
   "outputs": [],
   "source": [
    "categorized_variables = {\n",
    "    'note_categories': prepare_notes(),\n",
    "    'length_categories': prepare_lengths()\n",
    "}"
   ]
  },
  {
   "cell_type": "code",
   "execution_count": 5,
   "metadata": {
    "collapsed": true
   },
   "outputs": [],
   "source": [
    "note_index, index_note = create_category_indicies(categorized_variables['note_categories'])\n",
    "lengths_index, index_lengths = create_category_indicies(categorized_variables['length_categories'])\n",
    "\n",
    "lookup_indicies = {\n",
    "    'note_index': note_index,\n",
    "    'index_note': index_note,\n",
    "    'lengths_index': lengths_index,\n",
    "    'index_lengths': index_lengths,\n",
    "}\n",
    "\n",
    "note_phrases, next_note = generate_phrases(notes_corpus, n_time_steps, semi_redundancy_step)\n",
    "length_phrases, next_length = generate_phrases(length_corpus, n_time_steps, semi_redundancy_step)"
   ]
  },
  {
   "cell_type": "code",
   "execution_count": 6,
   "metadata": {},
   "outputs": [
    {
     "name": "stdout",
     "output_type": "stream",
     "text": [
      "(45580, 30, 128) note_x.shape\n",
      "(45580, 30, 141) length_x.shape\n",
      "(45580, 128) note_y.shape\n",
      "(45580, 141) length_y.shape\n"
     ]
    }
   ],
   "source": [
    "note_x, note_y = vectorize_phrases(\n",
    "    phrases=note_phrases,\n",
    "    n_categories=len(categorized_variables['note_categories']),\n",
    "    n_time_steps=n_time_steps,\n",
    "    lookup_index=lookup_indicies['note_index'],\n",
    "    next_lookup_index=next_note\n",
    "    )\n",
    "\n",
    "length_x, length_y = vectorize_phrases(\n",
    "    phrases=length_phrases,\n",
    "    n_categories=len(categorized_variables['length_categories']),\n",
    "    n_time_steps=n_time_steps,\n",
    "    lookup_index=lookup_indicies['lengths_index'],\n",
    "    next_lookup_index=next_length\n",
    ")\n",
    "\n",
    "print(note_x.shape, 'note_x.shape')\n",
    "print(length_x.shape, 'length_x.shape')\n",
    "print(note_y.shape, 'note_y.shape')\n",
    "print(length_y.shape, 'length_y.shape')"
   ]
  },
  {
   "cell_type": "code",
   "execution_count": 7,
   "metadata": {
    "collapsed": true
   },
   "outputs": [],
   "source": [
    "model = create_model(\n",
    "    categorized_variables=categorized_variables,\n",
    "    lstm_size=lstm_size,\n",
    "    lr=0.001,\n",
    "    n_time_steps=n_time_steps,\n",
    "    dropout=dropout,\n",
    ")"
   ]
  },
  {
   "cell_type": "code",
   "execution_count": 8,
   "metadata": {},
   "outputs": [
    {
     "name": "stdout",
     "output_type": "stream",
     "text": [
      "__________________________________________________________________________________________________\n",
      "Layer (type)                    Output Shape         Param #     Connected to                     \n",
      "==================================================================================================\n",
      "note_input (InputLayer)         (None, 30, 128)      0                                            \n",
      "__________________________________________________________________________________________________\n",
      "length_input (InputLayer)       (None, 30, 141)      0                                            \n",
      "__________________________________________________________________________________________________\n",
      "concatenate_1 (Concatenate)     (None, 30, 269)      0           note_input[0][0]                 \n",
      "                                                                 length_input[0][0]               \n",
      "__________________________________________________________________________________________________\n",
      "bidirectional_1 (Bidirectional) (None, 30, 20)       22400       concatenate_1[0][0]              \n",
      "__________________________________________________________________________________________________\n",
      "dropout_1 (Dropout)             (None, 30, 20)       0           bidirectional_1[0][0]            \n",
      "__________________________________________________________________________________________________\n",
      "bidirectional_2 (Bidirectional) (None, 20)           2480        dropout_1[0][0]                  \n",
      "__________________________________________________________________________________________________\n",
      "note_output (Dense)             (None, 128)          2688        bidirectional_2[0][0]            \n",
      "__________________________________________________________________________________________________\n",
      "length_output (Dense)           (None, 141)          2961        bidirectional_2[0][0]            \n",
      "==================================================================================================\n",
      "Total params: 30,529\n",
      "Trainable params: 30,529\n",
      "Non-trainable params: 0\n",
      "__________________________________________________________________________________________________\n"
     ]
    }
   ],
   "source": [
    "model.summary()"
   ]
  },
  {
   "cell_type": "code",
   "execution_count": 9,
   "metadata": {
    "scrolled": false
   },
   "outputs": [
    {
     "data": {
      "image/svg+xml": [
       "<svg height=\"410pt\" viewBox=\"0.00 0.00 327.91 410.00\" width=\"328pt\" xmlns=\"http://www.w3.org/2000/svg\" xmlns:xlink=\"http://www.w3.org/1999/xlink\">\n",
       "<g class=\"graph\" id=\"graph0\" transform=\"scale(1 1) rotate(0) translate(4 406)\">\n",
       "<title>G</title>\n",
       "<polygon fill=\"#ffffff\" points=\"-4,4 -4,-406 323.9106,-406 323.9106,4 -4,4\" stroke=\"transparent\"/>\n",
       "<!-- 4702478576 -->\n",
       "<g class=\"node\" id=\"node1\">\n",
       "<title>4702478576</title>\n",
       "<polygon fill=\"none\" points=\"0,-365.5 0,-401.5 145.4658,-401.5 145.4658,-365.5 0,-365.5\" stroke=\"#000000\"/>\n",
       "<text fill=\"#000000\" font-family=\"Times,serif\" font-size=\"14.00\" text-anchor=\"middle\" x=\"72.7329\" y=\"-379.3\">note_input: InputLayer</text>\n",
       "</g>\n",
       "<!-- 4702480256 -->\n",
       "<g class=\"node\" id=\"node3\">\n",
       "<title>4702480256</title>\n",
       "<polygon fill=\"none\" points=\"70.4136,-292.5 70.4136,-328.5 243.0522,-328.5 243.0522,-292.5 70.4136,-292.5\" stroke=\"#000000\"/>\n",
       "<text fill=\"#000000\" font-family=\"Times,serif\" font-size=\"14.00\" text-anchor=\"middle\" x=\"156.7329\" y=\"-306.3\">concatenate_1: Concatenate</text>\n",
       "</g>\n",
       "<!-- 4702478576&#45;&gt;4702480256 -->\n",
       "<g class=\"edge\" id=\"edge1\">\n",
       "<title>4702478576-&gt;4702480256</title>\n",
       "<path d=\"M93.497,-365.4551C103.9971,-356.3299 116.9003,-345.1165 128.3068,-335.2036\" fill=\"none\" stroke=\"#000000\"/>\n",
       "<polygon fill=\"#000000\" points=\"130.6645,-337.7918 135.9166,-328.5904 126.0727,-332.5082 130.6645,-337.7918\" stroke=\"#000000\"/>\n",
       "</g>\n",
       "<!-- 4702479808 -->\n",
       "<g class=\"node\" id=\"node2\">\n",
       "<title>4702479808</title>\n",
       "<polygon fill=\"none\" points=\"163.5552,-365.5 163.5552,-401.5 319.9106,-401.5 319.9106,-365.5 163.5552,-365.5\" stroke=\"#000000\"/>\n",
       "<text fill=\"#000000\" font-family=\"Times,serif\" font-size=\"14.00\" text-anchor=\"middle\" x=\"241.7329\" y=\"-379.3\">length_input: InputLayer</text>\n",
       "</g>\n",
       "<!-- 4702479808&#45;&gt;4702480256 -->\n",
       "<g class=\"edge\" id=\"edge2\">\n",
       "<title>4702479808-&gt;4702480256</title>\n",
       "<path d=\"M220.7217,-365.4551C210.0965,-356.3299 197.0397,-345.1165 185.4974,-335.2036\" fill=\"none\" stroke=\"#000000\"/>\n",
       "<polygon fill=\"#000000\" points=\"187.6637,-332.4505 177.797,-328.5904 183.103,-337.7609 187.6637,-332.4505\" stroke=\"#000000\"/>\n",
       "</g>\n",
       "<!-- 4702478800 -->\n",
       "<g class=\"node\" id=\"node4\">\n",
       "<title>4702478800</title>\n",
       "<polygon fill=\"none\" points=\"19.0654,-219.5 19.0654,-255.5 294.4004,-255.5 294.4004,-219.5 19.0654,-219.5\" stroke=\"#000000\"/>\n",
       "<text fill=\"#000000\" font-family=\"Times,serif\" font-size=\"14.00\" text-anchor=\"middle\" x=\"156.7329\" y=\"-233.3\">bidirectional_1(lstm_1): Bidirectional(LSTM)</text>\n",
       "</g>\n",
       "<!-- 4702480256&#45;&gt;4702478800 -->\n",
       "<g class=\"edge\" id=\"edge3\">\n",
       "<title>4702480256-&gt;4702478800</title>\n",
       "<path d=\"M156.7329,-292.4551C156.7329,-284.3828 156.7329,-274.6764 156.7329,-265.6817\" fill=\"none\" stroke=\"#000000\"/>\n",
       "<polygon fill=\"#000000\" points=\"160.233,-265.5903 156.7329,-255.5904 153.233,-265.5904 160.233,-265.5903\" stroke=\"#000000\"/>\n",
       "</g>\n",
       "<!-- 4702482216 -->\n",
       "<g class=\"node\" id=\"node5\">\n",
       "<title>4702482216</title>\n",
       "<polygon fill=\"none\" points=\"92.9312,-146.5 92.9312,-182.5 220.5347,-182.5 220.5347,-146.5 92.9312,-146.5\" stroke=\"#000000\"/>\n",
       "<text fill=\"#000000\" font-family=\"Times,serif\" font-size=\"14.00\" text-anchor=\"middle\" x=\"156.7329\" y=\"-160.3\">dropout_1: Dropout</text>\n",
       "</g>\n",
       "<!-- 4702478800&#45;&gt;4702482216 -->\n",
       "<g class=\"edge\" id=\"edge4\">\n",
       "<title>4702478800-&gt;4702482216</title>\n",
       "<path d=\"M156.7329,-219.4551C156.7329,-211.3828 156.7329,-201.6764 156.7329,-192.6817\" fill=\"none\" stroke=\"#000000\"/>\n",
       "<polygon fill=\"#000000\" points=\"160.233,-192.5903 156.7329,-182.5904 153.233,-192.5904 160.233,-192.5903\" stroke=\"#000000\"/>\n",
       "</g>\n",
       "<!-- 4765687200 -->\n",
       "<g class=\"node\" id=\"node6\">\n",
       "<title>4765687200</title>\n",
       "<polygon fill=\"none\" points=\"19.0654,-73.5 19.0654,-109.5 294.4004,-109.5 294.4004,-73.5 19.0654,-73.5\" stroke=\"#000000\"/>\n",
       "<text fill=\"#000000\" font-family=\"Times,serif\" font-size=\"14.00\" text-anchor=\"middle\" x=\"156.7329\" y=\"-87.3\">bidirectional_2(lstm_2): Bidirectional(LSTM)</text>\n",
       "</g>\n",
       "<!-- 4702482216&#45;&gt;4765687200 -->\n",
       "<g class=\"edge\" id=\"edge5\">\n",
       "<title>4702482216-&gt;4765687200</title>\n",
       "<path d=\"M156.7329,-146.4551C156.7329,-138.3828 156.7329,-128.6764 156.7329,-119.6817\" fill=\"none\" stroke=\"#000000\"/>\n",
       "<polygon fill=\"#000000\" points=\"160.233,-119.5903 156.7329,-109.5904 153.233,-119.5904 160.233,-119.5903\" stroke=\"#000000\"/>\n",
       "</g>\n",
       "<!-- 4766078736 -->\n",
       "<g class=\"node\" id=\"node7\">\n",
       "<title>4766078736</title>\n",
       "<polygon fill=\"none\" points=\"20.1035,-.5 20.1035,-36.5 145.3623,-36.5 145.3623,-.5 20.1035,-.5\" stroke=\"#000000\"/>\n",
       "<text fill=\"#000000\" font-family=\"Times,serif\" font-size=\"14.00\" text-anchor=\"middle\" x=\"82.7329\" y=\"-14.3\">note_output: Dense</text>\n",
       "</g>\n",
       "<!-- 4765687200&#45;&gt;4766078736 -->\n",
       "<g class=\"edge\" id=\"edge6\">\n",
       "<title>4765687200-&gt;4766078736</title>\n",
       "<path d=\"M138.4408,-73.4551C129.3685,-64.5054 118.26,-53.547 108.3561,-43.7769\" fill=\"none\" stroke=\"#000000\"/>\n",
       "<polygon fill=\"#000000\" points=\"110.6481,-41.1215 101.0711,-36.5904 105.7321,-46.1049 110.6481,-41.1215\" stroke=\"#000000\"/>\n",
       "</g>\n",
       "<!-- 5178340296 -->\n",
       "<g class=\"node\" id=\"node8\">\n",
       "<title>5178340296</title>\n",
       "<polygon fill=\"none\" points=\"163.6587,-.5 163.6587,-36.5 299.8071,-36.5 299.8071,-.5 163.6587,-.5\" stroke=\"#000000\"/>\n",
       "<text fill=\"#000000\" font-family=\"Times,serif\" font-size=\"14.00\" text-anchor=\"middle\" x=\"231.7329\" y=\"-14.3\">length_output: Dense</text>\n",
       "</g>\n",
       "<!-- 4765687200&#45;&gt;5178340296 -->\n",
       "<g class=\"edge\" id=\"edge7\">\n",
       "<title>4765687200-&gt;5178340296</title>\n",
       "<path d=\"M175.2722,-73.4551C184.4671,-64.5054 195.7258,-53.547 205.7634,-43.7769\" fill=\"none\" stroke=\"#000000\"/>\n",
       "<polygon fill=\"#000000\" points=\"208.4221,-46.0734 213.1469,-36.5904 203.5397,-41.0572 208.4221,-46.0734\" stroke=\"#000000\"/>\n",
       "</g>\n",
       "</g>\n",
       "</svg>"
      ],
      "text/plain": [
       "<IPython.core.display.SVG object>"
      ]
     },
     "execution_count": 9,
     "metadata": {},
     "output_type": "execute_result"
    }
   ],
   "source": [
    "SVG(model_to_dot(model).create(prog='dot', format='svg'))"
   ]
  },
  {
   "cell_type": "code",
   "execution_count": 10,
   "metadata": {
    "collapsed": true
   },
   "outputs": [],
   "source": [
    "# learning rate schedule\n",
    "def step_decay(epoch):\n",
    "\tinitial_lrate = 0.1\n",
    "\tdrop = 0.6\n",
    "\tepochs_drop = 25\n",
    "\tlrate = initial_lrate * math.pow(drop, math.floor((1+epoch)/epochs_drop))\n",
    "\treturn lrate"
   ]
  },
  {
   "cell_type": "code",
   "execution_count": 11,
   "metadata": {
    "collapsed": true
   },
   "outputs": [],
   "source": [
    "def listen_callback(epoch, logs):\n",
    "    if epoch % 20 == 0 and epoch > -1: \n",
    "    # if epoch < -2:\n",
    "        print('----- Generating melody after Epoch: %d' % epoch)\n",
    "        \n",
    "        start_index = random.randint(0, 7000)\n",
    "        for diversity in [0.5]:\n",
    "            print('----- diversity:', diversity)\n",
    "\n",
    "            current_note_phrase = notes_corpus[start_index: start_index + n_time_steps]\n",
    "            current_length_phrase = length_corpus[start_index: start_index + n_time_steps]\n",
    "\n",
    "            phrases = {'note_phrase': current_note_phrase, 'length_phrase': current_length_phrase}\n",
    "\n",
    "            generated_notes = []\n",
    "            generated_lengths = []\n",
    "            generated_notes.extend(current_note_phrase)\n",
    "            generated_lengths.extend(current_length_phrase)\n",
    "\n",
    "            # model, phrases,categorized_variables, lookup_indicies, n_time_steps, diversity, n_to_generate\n",
    "            for step in range(70):\n",
    "                encoded_prediction = make_encoded_prediction(\n",
    "                    model=model,\n",
    "                    phrases=phrases,\n",
    "                    categorized_variables=categorized_variables,\n",
    "                    lookup_indicies=lookup_indicies,\n",
    "                    n_time_steps=n_time_steps\n",
    "                )\n",
    "\n",
    "                predictions = decode_predictions(\n",
    "                    encoded_prediction=encoded_prediction,\n",
    "                    lookup_indicies=lookup_indicies,\n",
    "                    temperature=diversity\n",
    "                )\n",
    "\n",
    "                generated_notes.append(predictions['note_prediction']) \n",
    "                generated_lengths.append(predictions['length_prediction']) \n",
    "\n",
    "                phrases['note_phrase'] = np.append(phrases['note_phrase'][1:], predictions['note_prediction'])\n",
    "                phrases['length_phrase'] = np.append(phrases['length_phrase'][1:], predictions['length_prediction'])\n",
    "\n",
    "            play_generated_phrase(\n",
    "                generated_notes=generated_notes[10:],\n",
    "                generated_lengths=generated_lengths[10:],\n",
    "                player=player)"
   ]
  },
  {
   "cell_type": "code",
   "execution_count": 12,
   "metadata": {
    "collapsed": true
   },
   "outputs": [],
   "source": [
    "lrate = LearningRateScheduler(step_decay)"
   ]
  },
  {
   "cell_type": "code",
   "execution_count": 13,
   "metadata": {},
   "outputs": [
    {
     "name": "stdout",
     "output_type": "stream",
     "text": [
      "WARNING:tensorflow:From /usr/local/lib/python3.6/site-packages/tensorflow/contrib/learn/python/learn/datasets/base.py:198: retry (from tensorflow.contrib.learn.python.learn.datasets.base) is deprecated and will be removed in a future version.\n",
      "Instructions for updating:\n",
      "Use the retry module or similar alternatives.\n"
     ]
    }
   ],
   "source": [
    "tensorboard = TensorBoard(log_dir=\"./logs/{}\".format(datetime.datetime.now()), histogram_freq=0, write_graph=True)"
   ]
  },
  {
   "cell_type": "code",
   "execution_count": 14,
   "metadata": {
    "collapsed": true
   },
   "outputs": [],
   "source": [
    "listen_callback = LambdaCallback(on_epoch_end=listen_callback)"
   ]
  },
  {
   "cell_type": "code",
   "execution_count": null,
   "metadata": {
    "scrolled": false
   },
   "outputs": [
    {
     "name": "stdout",
     "output_type": "stream",
     "text": [
      "          **********************************\n",
      "            TRAINING\n",
      "          **********************************\n",
      "WARNING:tensorflow:Variable *= will be deprecated. Use variable.assign_mul if you want assignment to the variable value or 'x = x * y' if you want a new python Tensor object.\n",
      "Epoch 1/300\n",
      "45580/45580 [==============================] - 24s 518us/step - loss: 5.3120 - note_output_loss: 3.5046 - length_output_loss: 3.6148\n",
      "Epoch 2/300\n",
      "45580/45580 [==============================] - 22s 473us/step - loss: 4.7045 - note_output_loss: 3.1112 - length_output_loss: 3.1866\n",
      "Epoch 3/300\n",
      "45580/45580 [==============================] - 20s 440us/step - loss: 4.6844 - note_output_loss: 3.0923 - length_output_loss: 3.1841\n",
      "Epoch 4/300\n",
      "45580/45580 [==============================] - 21s 457us/step - loss: 4.6101 - note_output_loss: 3.0206 - length_output_loss: 3.1790\n",
      "Epoch 5/300\n",
      "45580/45580 [==============================] - 23s 497us/step - loss: 4.5217 - note_output_loss: 2.9421 - length_output_loss: 3.1591\n",
      "Epoch 6/300\n",
      "45580/45580 [==============================] - 24s 523us/step - loss: 4.4631 - note_output_loss: 2.8902 - length_output_loss: 3.1459\n",
      "Epoch 7/300\n",
      "45580/45580 [==============================] - 24s 518us/step - loss: 4.4250 - note_output_loss: 2.8563 - length_output_loss: 3.1374\n",
      "Epoch 8/300\n",
      "45580/45580 [==============================] - 24s 528us/step - loss: 4.3971 - note_output_loss: 2.8318 - length_output_loss: 3.1306\n",
      "Epoch 9/300\n",
      "45580/45580 [==============================] - 24s 535us/step - loss: 4.3736 - note_output_loss: 2.8111 - length_output_loss: 3.1250\n",
      "Epoch 10/300\n",
      "45580/45580 [==============================] - 26s 573us/step - loss: 4.3520 - note_output_loss: 2.7925 - length_output_loss: 3.1190\n",
      "Epoch 11/300\n",
      "45580/45580 [==============================] - 24s 525us/step - loss: 4.3288 - note_output_loss: 2.7723 - length_output_loss: 3.1131\n",
      "Epoch 12/300\n",
      "45580/45580 [==============================] - 24s 533us/step - loss: 4.3038 - note_output_loss: 2.7520 - length_output_loss: 3.1036\n",
      "Epoch 13/300\n",
      "45580/45580 [==============================] - 24s 529us/step - loss: 4.2726 - note_output_loss: 2.7266 - length_output_loss: 3.0920\n",
      "Epoch 14/300\n",
      "45580/45580 [==============================] - 25s 542us/step - loss: 4.2341 - note_output_loss: 2.6959 - length_output_loss: 3.0765\n",
      "Epoch 15/300\n",
      "45580/45580 [==============================] - 24s 522us/step - loss: 4.1955 - note_output_loss: 2.6656 - length_output_loss: 3.0599\n",
      "Epoch 16/300\n",
      "45580/45580 [==============================] - 23s 514us/step - loss: 4.1611 - note_output_loss: 2.6375 - length_output_loss: 3.0472\n",
      "Epoch 17/300\n",
      "45580/45580 [==============================] - 22s 489us/step - loss: 4.1388 - note_output_loss: 2.6196 - length_output_loss: 3.0385\n",
      "Epoch 18/300\n",
      "45580/45580 [==============================] - 22s 484us/step - loss: 4.1163 - note_output_loss: 2.6009 - length_output_loss: 3.0308\n",
      "Epoch 19/300\n",
      "45580/45580 [==============================] - 22s 489us/step - loss: 4.1033 - note_output_loss: 2.5898 - length_output_loss: 3.0270\n",
      "Epoch 20/300\n",
      "45580/45580 [==============================] - 23s 506us/step - loss: 4.0891 - note_output_loss: 2.5784 - length_output_loss: 3.0214\n",
      "Epoch 21/300\n",
      "45580/45580 [==============================] - 24s 528us/step - loss: 4.0770 - note_output_loss: 2.5688 - length_output_loss: 3.0163\n",
      "Epoch 22/300\n",
      "45580/45580 [==============================] - 24s 534us/step - loss: 4.0663 - note_output_loss: 2.5599 - length_output_loss: 3.0128\n",
      "Epoch 23/300\n",
      "45580/45580 [==============================] - 23s 508us/step - loss: 4.0547 - note_output_loss: 2.5508 - length_output_loss: 3.0078\n",
      "Epoch 24/300\n",
      "45580/45580 [==============================] - 23s 502us/step - loss: 4.0475 - note_output_loss: 2.5446 - length_output_loss: 3.0058\n",
      "Epoch 25/300\n",
      "45580/45580 [==============================] - 24s 518us/step - loss: 4.0393 - note_output_loss: 2.5382 - length_output_loss: 3.0022\n",
      "Epoch 26/300\n",
      "45580/45580 [==============================] - 25s 540us/step - loss: 4.0330 - note_output_loss: 2.5331 - length_output_loss: 2.9997\n",
      "Epoch 27/300\n",
      "45580/45580 [==============================] - 23s 512us/step - loss: 4.0258 - note_output_loss: 2.5269 - length_output_loss: 2.9978\n",
      "Epoch 28/300\n",
      "45580/45580 [==============================] - 24s 525us/step - loss: 4.0203 - note_output_loss: 2.5222 - length_output_loss: 2.9962\n",
      "Epoch 29/300\n",
      "45580/45580 [==============================] - 22s 484us/step - loss: 4.0161 - note_output_loss: 2.5195 - length_output_loss: 2.9933\n",
      "Epoch 30/300\n",
      "45580/45580 [==============================] - 22s 480us/step - loss: 4.0097 - note_output_loss: 2.5136 - length_output_loss: 2.9922\n",
      "Epoch 31/300\n",
      "45580/45580 [==============================] - 23s 501us/step - loss: 4.0046 - note_output_loss: 2.5096 - length_output_loss: 2.9899\n",
      "Epoch 32/300\n",
      "45580/45580 [==============================] - 23s 495us/step - loss: 3.9998 - note_output_loss: 2.5056 - length_output_loss: 2.9884\n",
      "Epoch 33/300\n",
      "45580/45580 [==============================] - 23s 496us/step - loss: 3.9936 - note_output_loss: 2.5009 - length_output_loss: 2.9854\n",
      "Epoch 34/300\n",
      "45580/45580 [==============================] - 22s 474us/step - loss: 3.9904 - note_output_loss: 2.4982 - length_output_loss: 2.9846\n",
      "Epoch 35/300\n",
      "45580/45580 [==============================] - 21s 451us/step - loss: 3.9856 - note_output_loss: 2.4936 - length_output_loss: 2.9841\n",
      "Epoch 36/300\n",
      "45580/45580 [==============================] - 22s 485us/step - loss: 3.9835 - note_output_loss: 2.4927 - length_output_loss: 2.9816\n",
      "Epoch 37/300\n",
      "45580/45580 [==============================] - 21s 464us/step - loss: 3.9789 - note_output_loss: 2.4887 - length_output_loss: 2.9803\n",
      "Epoch 38/300\n",
      "45580/45580 [==============================] - 22s 473us/step - loss: 3.9764 - note_output_loss: 2.4864 - length_output_loss: 2.9801\n",
      "Epoch 39/300\n",
      "45580/45580 [==============================] - 22s 491us/step - loss: 3.9741 - note_output_loss: 2.4849 - length_output_loss: 2.9784\n",
      "Epoch 40/300\n",
      "45580/45580 [==============================] - 22s 481us/step - loss: 3.9690 - note_output_loss: 2.4811 - length_output_loss: 2.9758\n",
      "Epoch 41/300\n",
      "45580/45580 [==============================] - 21s 470us/step - loss: 3.9694 - note_output_loss: 2.4810 - length_output_loss: 2.9769\n",
      "Epoch 42/300\n",
      "45580/45580 [==============================] - 21s 455us/step - loss: 3.9638 - note_output_loss: 2.4765 - length_output_loss: 2.9747\n",
      "Epoch 43/300\n",
      "45580/45580 [==============================] - 21s 471us/step - loss: 3.9615 - note_output_loss: 2.4748 - length_output_loss: 2.9733\n",
      "Epoch 44/300\n",
      "45580/45580 [==============================] - 21s 468us/step - loss: 3.9567 - note_output_loss: 2.4713 - length_output_loss: 2.9709\n",
      "Epoch 45/300\n",
      "45580/45580 [==============================] - 21s 459us/step - loss: 3.9558 - note_output_loss: 2.4702 - length_output_loss: 2.9711\n",
      "Epoch 46/300\n",
      "45580/45580 [==============================] - 22s 485us/step - loss: 3.9524 - note_output_loss: 2.4688 - length_output_loss: 2.9671\n",
      "Epoch 47/300\n",
      "45580/45580 [==============================] - 23s 496us/step - loss: 3.9503 - note_output_loss: 2.4665 - length_output_loss: 2.9675\n",
      "Epoch 48/300\n",
      "45580/45580 [==============================] - 21s 464us/step - loss: 3.9448 - note_output_loss: 2.4622 - length_output_loss: 2.9651\n",
      "Epoch 49/300\n",
      "45580/45580 [==============================] - 22s 472us/step - loss: 3.9413 - note_output_loss: 2.4587 - length_output_loss: 2.9651\n",
      "Epoch 50/300\n",
      "45580/45580 [==============================] - 22s 490us/step - loss: 3.9403 - note_output_loss: 2.4583 - length_output_loss: 2.9638\n",
      "Epoch 51/300\n",
      "45580/45580 [==============================] - 23s 506us/step - loss: 3.9417 - note_output_loss: 2.4603 - length_output_loss: 2.9628\n",
      "Epoch 52/300\n",
      "45056/45580 [============================>.] - ETA: 0s - loss: 3.9376 - note_output_loss: 2.4557 - length_output_loss: 2.9638"
     ]
    }
   ],
   "source": [
    "logger('TRAINING')\n",
    "model.fit([note_x, length_x], [note_y, length_y],\n",
    "          batch_size=batch_size,\n",
    "          epochs=300,\n",
    "          callbacks=[\n",
    "#               listen_callback,\n",
    "#               tensorboard,\n",
    "            ]\n",
    "          )"
   ]
  },
  {
   "cell_type": "code",
   "execution_count": 34,
   "metadata": {},
   "outputs": [
    {
     "name": "stdout",
     "output_type": "stream",
     "text": [
      "Saved model_2.json and model_2.h5 to disk\n"
     ]
    }
   ],
   "source": [
    "save_model(model, 'model_2')"
   ]
  },
  {
   "cell_type": "code",
   "execution_count": null,
   "metadata": {
    "collapsed": true
   },
   "outputs": [],
   "source": []
  }
 ],
 "metadata": {
  "kernelspec": {
   "display_name": "Python 3",
   "language": "python",
   "name": "python3"
  },
  "language_info": {
   "codemirror_mode": {
    "name": "ipython",
    "version": 3
   },
   "file_extension": ".py",
   "mimetype": "text/x-python",
   "name": "python",
   "nbconvert_exporter": "python",
   "pygments_lexer": "ipython3",
   "version": "3.6.4"
  }
 },
 "nbformat": 4,
 "nbformat_minor": 1
}
