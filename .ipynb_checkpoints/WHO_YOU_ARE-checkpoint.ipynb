{
 "cells": [
  {
   "cell_type": "markdown",
   "metadata": {},
   "source": [
    "## Imports"
   ]
  },
  {
   "cell_type": "code",
   "execution_count": 1,
   "metadata": {},
   "outputs": [
    {
     "name": "stderr",
     "output_type": "stream",
     "text": [
      "/Users/dannymeyer/anaconda3/lib/python3.6/site-packages/h5py/__init__.py:36: FutureWarning: Conversion of the second argument of issubdtype from `float` to `np.floating` is deprecated. In future, it will be treated as `np.float64 == np.dtype(float).type`.\n",
      "  from ._conv import register_converters as _register_converters\n",
      "Using TensorFlow backend.\n"
     ]
    }
   ],
   "source": [
    "import numpy as np\n",
    "import time\n",
    "import datetime\n",
    "import random\n",
    "\n",
    "from keras.callbacks import LambdaCallback\n",
    "from keras.utils import plot_model\n",
    "from keras.callbacks import TensorBoard\n",
    "\n",
    "from pandas import read_csv\n",
    "from Audio.Components.MidiPlayer import MidiPlayer\n",
    "\n",
    "from keras.utils.vis_utils import model_to_dot\n",
    "from keras.callbacks import LearningRateScheduler\n",
    "from matplotlib import pyplot\n",
    "from IPython.display import SVG\n",
    "import pydot\n",
    "import graphviz\n",
    "\n",
    "from NN.models.windowed_model import create_model\n",
    "# from NN.models.separate_model import create_model\n",
    "\n",
    "from Audio.Components.helpers.prepare_arrays import prepare_notes, prepare_lengths\n",
    "from Audio.Components.helpers.save_model import save_model\n",
    "from Audio.Components.helpers.make_encoded_prediction import make_encoded_prediction\n",
    "from Audio.Components.helpers.create_categorical_indicies import create_category_indicies\n",
    "from Audio.Components.helpers.generate_phrases import generate_phrases\n",
    "from Audio.Components.helpers.decode_predictions import decode_predictions\n",
    "from Audio.Components.helpers.play_generated_phrase import play_generated_phrase\n",
    "from Audio.Components.helpers.vectorize_phrases import vectorize_phrases\n",
    "from Audio.Components.helpers.logger import logger\n",
    "import constants"
   ]
  },
  {
   "cell_type": "markdown",
   "metadata": {
    "collapsed": true
   },
   "source": [
    "## Constants"
   ]
  },
  {
   "cell_type": "code",
   "execution_count": 2,
   "metadata": {},
   "outputs": [
    {
     "name": "stdout",
     "output_type": "stream",
     "text": [
      "['IAC Driver Bus 1', 'IAC Driver LocalMidi']\n"
     ]
    }
   ],
   "source": [
    "player = MidiPlayer()\n",
    "dropout = 0.5\n",
    "n_time_steps = constants.n_time_steps\n",
    "semi_redundancy_step = constants.semi_redundancy_step\n",
    "lstm_size = constants.lstm_size\n",
    "lr = constants.lr\n",
    "epochs = constants.epochs\n",
    "batch_size = constants.batch_size\n",
    "n_to_generate = constants.n_to_generate"
   ]
  },
  {
   "cell_type": "code",
   "execution_count": 3,
   "metadata": {},
   "outputs": [
    {
     "name": "stdout",
     "output_type": "stream",
     "text": [
      "          **********************************\n",
      "            PREPROCESSING\n",
      "          **********************************\n",
      "corpus length: 27587\n"
     ]
    }
   ],
   "source": [
    "logger('PREPROCESSING')\n",
    "corpus = read_csv('Audio/data/input.csv', header=1)\n",
    "print('corpus length:', len(corpus))\n",
    "notes_corpus = corpus.values[:, 0]\n",
    "length_corpus = corpus.values[:, 1]"
   ]
  },
  {
   "cell_type": "code",
   "execution_count": 4,
   "metadata": {
    "collapsed": true
   },
   "outputs": [],
   "source": [
    "categorized_variables = {\n",
    "    'note_categories': prepare_notes(),\n",
    "    'length_categories': prepare_lengths()\n",
    "}"
   ]
  },
  {
   "cell_type": "code",
   "execution_count": 5,
   "metadata": {
    "collapsed": true
   },
   "outputs": [],
   "source": [
    "note_index, index_note = create_category_indicies(categorized_variables['note_categories'])\n",
    "lengths_index, index_lengths = create_category_indicies(categorized_variables['length_categories'])\n",
    "\n",
    "lookup_indicies = {\n",
    "    'note_index': note_index,\n",
    "    'index_note': index_note,\n",
    "    'lengths_index': lengths_index,\n",
    "    'index_lengths': index_lengths,\n",
    "}\n",
    "\n",
    "note_phrases, next_note = generate_phrases(notes_corpus, n_time_steps, semi_redundancy_step)\n",
    "length_phrases, next_length = generate_phrases(length_corpus, n_time_steps, semi_redundancy_step)"
   ]
  },
  {
   "cell_type": "code",
   "execution_count": 6,
   "metadata": {},
   "outputs": [
    {
     "name": "stdout",
     "output_type": "stream",
     "text": [
      "(27567, 20, 128) note_x.shape\n",
      "(27567, 20, 141) length_x.shape\n",
      "(27567, 128) note_y.shape\n",
      "(27567, 141) length_y.shape\n"
     ]
    }
   ],
   "source": [
    "note_x, note_y = vectorize_phrases(\n",
    "    phrases=note_phrases,\n",
    "    n_categories=len(categorized_variables['note_categories']),\n",
    "    n_time_steps=n_time_steps,\n",
    "    lookup_index=lookup_indicies['note_index'],\n",
    "    next_lookup_index=next_note\n",
    "    )\n",
    "\n",
    "length_x, length_y = vectorize_phrases(\n",
    "    phrases=length_phrases,\n",
    "    n_categories=len(categorized_variables['length_categories']),\n",
    "    n_time_steps=n_time_steps,\n",
    "    lookup_index=lookup_indicies['lengths_index'],\n",
    "    next_lookup_index=next_length\n",
    ")\n",
    "\n",
    "print(note_x.shape, 'note_x.shape')\n",
    "print(length_x.shape, 'length_x.shape')\n",
    "print(note_y.shape, 'note_y.shape')\n",
    "print(length_y.shape, 'length_y.shape')"
   ]
  },
  {
   "cell_type": "code",
   "execution_count": 7,
   "metadata": {
    "collapsed": true
   },
   "outputs": [],
   "source": [
    "model = create_model(\n",
    "    categorized_variables=categorized_variables,\n",
    "    lstm_size=lstm_size,\n",
    "    lr=0.001,\n",
    "    n_time_steps=n_time_steps,\n",
    "    dropout=dropout,\n",
    ")"
   ]
  },
  {
   "cell_type": "code",
   "execution_count": 8,
   "metadata": {},
   "outputs": [
    {
     "name": "stdout",
     "output_type": "stream",
     "text": [
      "__________________________________________________________________________________________________\n",
      "Layer (type)                    Output Shape         Param #     Connected to                     \n",
      "==================================================================================================\n",
      "note_input (InputLayer)         (None, 20, 128)      0                                            \n",
      "__________________________________________________________________________________________________\n",
      "length_input (InputLayer)       (None, 20, 141)      0                                            \n",
      "__________________________________________________________________________________________________\n",
      "bidirectional_1 (Bidirectional) (None, 20, 512)      788480      note_input[0][0]                 \n",
      "__________________________________________________________________________________________________\n",
      "bidirectional_2 (Bidirectional) (None, 20, 512)      815104      length_input[0][0]               \n",
      "__________________________________________________________________________________________________\n",
      "dropout_1 (Dropout)             (None, 20, 512)      0           bidirectional_1[0][0]            \n",
      "__________________________________________________________________________________________________\n",
      "dropout_2 (Dropout)             (None, 20, 512)      0           bidirectional_2[0][0]            \n",
      "__________________________________________________________________________________________________\n",
      "bidirectional_3 (Bidirectional) (None, 20, 512)      1574912     dropout_1[0][0]                  \n",
      "__________________________________________________________________________________________________\n",
      "lstm_6 (LSTM)                   (None, 20, 64)       147712      dropout_2[0][0]                  \n",
      "__________________________________________________________________________________________________\n",
      "bidirectional_4 (Bidirectional) (None, 20, 512)      1574912     dropout_2[0][0]                  \n",
      "__________________________________________________________________________________________________\n",
      "lstm_4 (LSTM)                   (None, 20, 64)       147712      dropout_1[0][0]                  \n",
      "__________________________________________________________________________________________________\n",
      "concatenate_1 (Concatenate)     (None, 20, 576)      0           bidirectional_3[0][0]            \n",
      "                                                                 lstm_6[0][0]                     \n",
      "__________________________________________________________________________________________________\n",
      "concatenate_2 (Concatenate)     (None, 20, 576)      0           bidirectional_4[0][0]            \n",
      "                                                                 lstm_4[0][0]                     \n",
      "__________________________________________________________________________________________________\n",
      "lstm_7 (LSTM)                   (None, 20, 256)      852992      concatenate_1[0][0]              \n",
      "__________________________________________________________________________________________________\n",
      "lstm_8 (LSTM)                   (None, 20, 256)      852992      concatenate_2[0][0]              \n",
      "__________________________________________________________________________________________________\n",
      "dropout_3 (Dropout)             (None, 20, 256)      0           lstm_7[0][0]                     \n",
      "__________________________________________________________________________________________________\n",
      "dropout_4 (Dropout)             (None, 20, 256)      0           lstm_8[0][0]                     \n",
      "__________________________________________________________________________________________________\n",
      "lstm_9 (LSTM)                   (None, 20, 256)      525312      dropout_3[0][0]                  \n",
      "__________________________________________________________________________________________________\n",
      "lstm_10 (LSTM)                  (None, 20, 256)      525312      dropout_4[0][0]                  \n",
      "__________________________________________________________________________________________________\n",
      "note_output (Dense)             (None, 20, 128)      32896       lstm_9[0][0]                     \n",
      "__________________________________________________________________________________________________\n",
      "length_output (Dense)           (None, 20, 141)      36237       lstm_10[0][0]                    \n",
      "==================================================================================================\n",
      "Total params: 7,874,573\n",
      "Trainable params: 7,874,573\n",
      "Non-trainable params: 0\n",
      "__________________________________________________________________________________________________\n"
     ]
    }
   ],
   "source": [
    "model.summary()"
   ]
  },
  {
   "cell_type": "code",
   "execution_count": 9,
   "metadata": {
    "scrolled": false
   },
   "outputs": [
    {
     "data": {
      "image/svg+xml": [
       "<svg height=\"629pt\" viewBox=\"0.00 0.00 810.33 629.00\" width=\"810pt\" xmlns=\"http://www.w3.org/2000/svg\" xmlns:xlink=\"http://www.w3.org/1999/xlink\">\n",
       "<g class=\"graph\" id=\"graph0\" transform=\"scale(1 1) rotate(0) translate(4 625)\">\n",
       "<title>G</title>\n",
       "<polygon fill=\"#ffffff\" points=\"-4,4 -4,-625 806.335,-625 806.335,4 -4,4\" stroke=\"transparent\"/>\n",
       "<!-- 103637018776 -->\n",
       "<g class=\"node\" id=\"node1\">\n",
       "<title>103637018776</title>\n",
       "<polygon fill=\"none\" points=\"174.9346,-584.5 174.9346,-620.5 320.4004,-620.5 320.4004,-584.5 174.9346,-584.5\" stroke=\"#000000\"/>\n",
       "<text fill=\"#000000\" font-family=\"Times,serif\" font-size=\"14.00\" text-anchor=\"middle\" x=\"247.6675\" y=\"-598.3\">note_input: InputLayer</text>\n",
       "</g>\n",
       "<!-- 103637051936 -->\n",
       "<g class=\"node\" id=\"node3\">\n",
       "<title>103637051936</title>\n",
       "<polygon fill=\"none\" points=\"110,-511.5 110,-547.5 385.335,-547.5 385.335,-511.5 110,-511.5\" stroke=\"#000000\"/>\n",
       "<text fill=\"#000000\" font-family=\"Times,serif\" font-size=\"14.00\" text-anchor=\"middle\" x=\"247.6675\" y=\"-525.3\">bidirectional_1(lstm_1): Bidirectional(LSTM)</text>\n",
       "</g>\n",
       "<!-- 103637018776&#45;&gt;103637051936 -->\n",
       "<g class=\"edge\" id=\"edge1\">\n",
       "<title>103637018776-&gt;103637051936</title>\n",
       "<path d=\"M247.6675,-584.4551C247.6675,-576.3828 247.6675,-566.6764 247.6675,-557.6817\" fill=\"none\" stroke=\"#000000\"/>\n",
       "<polygon fill=\"#000000\" points=\"251.1676,-557.5903 247.6675,-547.5904 244.1676,-557.5904 251.1676,-557.5903\" stroke=\"#000000\"/>\n",
       "</g>\n",
       "<!-- 103637018720 -->\n",
       "<g class=\"node\" id=\"node2\">\n",
       "<title>103637018720</title>\n",
       "<polygon fill=\"none\" points=\"476.4897,-584.5 476.4897,-620.5 632.8452,-620.5 632.8452,-584.5 476.4897,-584.5\" stroke=\"#000000\"/>\n",
       "<text fill=\"#000000\" font-family=\"Times,serif\" font-size=\"14.00\" text-anchor=\"middle\" x=\"554.6675\" y=\"-598.3\">length_input: InputLayer</text>\n",
       "</g>\n",
       "<!-- 103830383808 -->\n",
       "<g class=\"node\" id=\"node4\">\n",
       "<title>103830383808</title>\n",
       "<polygon fill=\"none\" points=\"417,-511.5 417,-547.5 692.335,-547.5 692.335,-511.5 417,-511.5\" stroke=\"#000000\"/>\n",
       "<text fill=\"#000000\" font-family=\"Times,serif\" font-size=\"14.00\" text-anchor=\"middle\" x=\"554.6675\" y=\"-525.3\">bidirectional_2(lstm_2): Bidirectional(LSTM)</text>\n",
       "</g>\n",
       "<!-- 103637018720&#45;&gt;103830383808 -->\n",
       "<g class=\"edge\" id=\"edge2\">\n",
       "<title>103637018720-&gt;103830383808</title>\n",
       "<path d=\"M554.6675,-584.4551C554.6675,-576.3828 554.6675,-566.6764 554.6675,-557.6817\" fill=\"none\" stroke=\"#000000\"/>\n",
       "<polygon fill=\"#000000\" points=\"558.1676,-557.5903 554.6675,-547.5904 551.1676,-557.5904 558.1676,-557.5903\" stroke=\"#000000\"/>\n",
       "</g>\n",
       "<!-- 103830526944 -->\n",
       "<g class=\"node\" id=\"node5\">\n",
       "<title>103830526944</title>\n",
       "<polygon fill=\"none\" points=\"183.8657,-438.5 183.8657,-474.5 311.4692,-474.5 311.4692,-438.5 183.8657,-438.5\" stroke=\"#000000\"/>\n",
       "<text fill=\"#000000\" font-family=\"Times,serif\" font-size=\"14.00\" text-anchor=\"middle\" x=\"247.6675\" y=\"-452.3\">dropout_1: Dropout</text>\n",
       "</g>\n",
       "<!-- 103637051936&#45;&gt;103830526944 -->\n",
       "<g class=\"edge\" id=\"edge3\">\n",
       "<title>103637051936-&gt;103830526944</title>\n",
       "<path d=\"M247.6675,-511.4551C247.6675,-503.3828 247.6675,-493.6764 247.6675,-484.6817\" fill=\"none\" stroke=\"#000000\"/>\n",
       "<polygon fill=\"#000000\" points=\"251.1676,-484.5903 247.6675,-474.5904 244.1676,-484.5904 251.1676,-484.5903\" stroke=\"#000000\"/>\n",
       "</g>\n",
       "<!-- 103838117000 -->\n",
       "<g class=\"node\" id=\"node6\">\n",
       "<title>103838117000</title>\n",
       "<polygon fill=\"none\" points=\"490.8657,-438.5 490.8657,-474.5 618.4692,-474.5 618.4692,-438.5 490.8657,-438.5\" stroke=\"#000000\"/>\n",
       "<text fill=\"#000000\" font-family=\"Times,serif\" font-size=\"14.00\" text-anchor=\"middle\" x=\"554.6675\" y=\"-452.3\">dropout_2: Dropout</text>\n",
       "</g>\n",
       "<!-- 103830383808&#45;&gt;103838117000 -->\n",
       "<g class=\"edge\" id=\"edge4\">\n",
       "<title>103830383808-&gt;103838117000</title>\n",
       "<path d=\"M554.6675,-511.4551C554.6675,-503.3828 554.6675,-493.6764 554.6675,-484.6817\" fill=\"none\" stroke=\"#000000\"/>\n",
       "<polygon fill=\"#000000\" points=\"558.1676,-484.5903 554.6675,-474.5904 551.1676,-484.5904 558.1676,-484.5903\" stroke=\"#000000\"/>\n",
       "</g>\n",
       "<!-- 103840302360 -->\n",
       "<g class=\"node\" id=\"node7\">\n",
       "<title>103840302360</title>\n",
       "<polygon fill=\"none\" points=\"0,-365.5 0,-401.5 275.335,-401.5 275.335,-365.5 0,-365.5\" stroke=\"#000000\"/>\n",
       "<text fill=\"#000000\" font-family=\"Times,serif\" font-size=\"14.00\" text-anchor=\"middle\" x=\"137.6675\" y=\"-379.3\">bidirectional_3(lstm_3): Bidirectional(LSTM)</text>\n",
       "</g>\n",
       "<!-- 103830526944&#45;&gt;103840302360 -->\n",
       "<g class=\"edge\" id=\"edge5\">\n",
       "<title>103830526944-&gt;103840302360</title>\n",
       "<path d=\"M220.4765,-438.4551C206.3297,-429.0667 188.8518,-417.4678 173.6045,-407.3491\" fill=\"none\" stroke=\"#000000\"/>\n",
       "<polygon fill=\"#000000\" points=\"175.1944,-404.2037 164.9269,-401.5904 171.3237,-410.0362 175.1944,-404.2037\" stroke=\"#000000\"/>\n",
       "</g>\n",
       "<!-- 103840418224 -->\n",
       "<g class=\"node\" id=\"node10\">\n",
       "<title>103840418224</title>\n",
       "<polygon fill=\"none\" points=\"293.2451,-365.5 293.2451,-401.5 392.0898,-401.5 392.0898,-365.5 293.2451,-365.5\" stroke=\"#000000\"/>\n",
       "<text fill=\"#000000\" font-family=\"Times,serif\" font-size=\"14.00\" text-anchor=\"middle\" x=\"342.6675\" y=\"-379.3\">lstm_4: LSTM</text>\n",
       "</g>\n",
       "<!-- 103830526944&#45;&gt;103840418224 -->\n",
       "<g class=\"edge\" id=\"edge8\">\n",
       "<title>103830526944-&gt;103840418224</title>\n",
       "<path d=\"M271.1506,-438.4551C283.14,-429.2422 297.8996,-417.9006 310.8906,-407.918\" fill=\"none\" stroke=\"#000000\"/>\n",
       "<polygon fill=\"#000000\" points=\"313.3285,-410.4587 319.1252,-401.5904 309.0633,-404.9082 313.3285,-410.4587\" stroke=\"#000000\"/>\n",
       "</g>\n",
       "<!-- 103812621480 -->\n",
       "<g class=\"node\" id=\"node8\">\n",
       "<title>103812621480</title>\n",
       "<polygon fill=\"none\" points=\"410.2451,-365.5 410.2451,-401.5 509.0898,-401.5 509.0898,-365.5 410.2451,-365.5\" stroke=\"#000000\"/>\n",
       "<text fill=\"#000000\" font-family=\"Times,serif\" font-size=\"14.00\" text-anchor=\"middle\" x=\"459.6675\" y=\"-379.3\">lstm_6: LSTM</text>\n",
       "</g>\n",
       "<!-- 103838117000&#45;&gt;103812621480 -->\n",
       "<g class=\"edge\" id=\"edge6\">\n",
       "<title>103838117000-&gt;103812621480</title>\n",
       "<path d=\"M531.1843,-438.4551C519.195,-429.2422 504.4354,-417.9006 491.4444,-407.918\" fill=\"none\" stroke=\"#000000\"/>\n",
       "<polygon fill=\"#000000\" points=\"493.2717,-404.9082 483.2097,-401.5904 489.0065,-410.4587 493.2717,-404.9082\" stroke=\"#000000\"/>\n",
       "</g>\n",
       "<!-- 103812480192 -->\n",
       "<g class=\"node\" id=\"node9\">\n",
       "<title>103812480192</title>\n",
       "<polygon fill=\"none\" points=\"527,-365.5 527,-401.5 802.335,-401.5 802.335,-365.5 527,-365.5\" stroke=\"#000000\"/>\n",
       "<text fill=\"#000000\" font-family=\"Times,serif\" font-size=\"14.00\" text-anchor=\"middle\" x=\"664.6675\" y=\"-379.3\">bidirectional_4(lstm_5): Bidirectional(LSTM)</text>\n",
       "</g>\n",
       "<!-- 103838117000&#45;&gt;103812480192 -->\n",
       "<g class=\"edge\" id=\"edge7\">\n",
       "<title>103838117000-&gt;103812480192</title>\n",
       "<path d=\"M581.8585,-438.4551C596.0053,-429.0667 613.4832,-417.4678 628.7304,-407.3491\" fill=\"none\" stroke=\"#000000\"/>\n",
       "<polygon fill=\"#000000\" points=\"631.0112,-410.0362 637.408,-401.5904 627.1405,-404.2037 631.0112,-410.0362\" stroke=\"#000000\"/>\n",
       "</g>\n",
       "<!-- 103860611672 -->\n",
       "<g class=\"node\" id=\"node11\">\n",
       "<title>103860611672</title>\n",
       "<polygon fill=\"none\" points=\"215.3481,-292.5 215.3481,-328.5 387.9868,-328.5 387.9868,-292.5 215.3481,-292.5\" stroke=\"#000000\"/>\n",
       "<text fill=\"#000000\" font-family=\"Times,serif\" font-size=\"14.00\" text-anchor=\"middle\" x=\"301.6675\" y=\"-306.3\">concatenate_1: Concatenate</text>\n",
       "</g>\n",
       "<!-- 103840302360&#45;&gt;103860611672 -->\n",
       "<g class=\"edge\" id=\"edge9\">\n",
       "<title>103840302360-&gt;103860611672</title>\n",
       "<path d=\"M178.2068,-365.4551C200.4811,-355.5403 228.2943,-343.16 251.8799,-332.6615\" fill=\"none\" stroke=\"#000000\"/>\n",
       "<polygon fill=\"#000000\" points=\"253.3136,-335.8545 261.0261,-328.5904 250.467,-329.4594 253.3136,-335.8545\" stroke=\"#000000\"/>\n",
       "</g>\n",
       "<!-- 103812621480&#45;&gt;103860611672 -->\n",
       "<g class=\"edge\" id=\"edge10\">\n",
       "<title>103812621480-&gt;103860611672</title>\n",
       "<path d=\"M420.6113,-365.4551C399.2468,-355.5841 372.5933,-343.2695 349.9354,-332.801\" fill=\"none\" stroke=\"#000000\"/>\n",
       "<polygon fill=\"#000000\" points=\"351.3679,-329.6074 340.822,-328.5904 348.4319,-335.9619 351.3679,-329.6074\" stroke=\"#000000\"/>\n",
       "</g>\n",
       "<!-- 103813902176 -->\n",
       "<g class=\"node\" id=\"node12\">\n",
       "<title>103813902176</title>\n",
       "<polygon fill=\"none\" points=\"413.3481,-292.5 413.3481,-328.5 585.9868,-328.5 585.9868,-292.5 413.3481,-292.5\" stroke=\"#000000\"/>\n",
       "<text fill=\"#000000\" font-family=\"Times,serif\" font-size=\"14.00\" text-anchor=\"middle\" x=\"499.6675\" y=\"-306.3\">concatenate_2: Concatenate</text>\n",
       "</g>\n",
       "<!-- 103812480192&#45;&gt;103813902176 -->\n",
       "<g class=\"edge\" id=\"edge11\">\n",
       "<title>103812480192-&gt;103813902176</title>\n",
       "<path d=\"M623.881,-365.4551C601.4708,-355.5403 573.4881,-343.16 549.7586,-332.6615\" fill=\"none\" stroke=\"#000000\"/>\n",
       "<polygon fill=\"#000000\" points=\"551.1177,-329.4356 540.5566,-328.5904 548.2855,-335.8371 551.1177,-329.4356\" stroke=\"#000000\"/>\n",
       "</g>\n",
       "<!-- 103840418224&#45;&gt;103813902176 -->\n",
       "<g class=\"edge\" id=\"edge12\">\n",
       "<title>103840418224-&gt;103813902176</title>\n",
       "<path d=\"M381.4765,-365.4551C402.6114,-355.628 428.9552,-343.3789 451.4046,-332.9407\" fill=\"none\" stroke=\"#000000\"/>\n",
       "<polygon fill=\"#000000\" points=\"453.1688,-335.9803 460.7608,-328.5904 450.2174,-329.6329 453.1688,-335.9803\" stroke=\"#000000\"/>\n",
       "</g>\n",
       "<!-- 103861675456 -->\n",
       "<g class=\"node\" id=\"node13\">\n",
       "<title>103861675456</title>\n",
       "<polygon fill=\"none\" points=\"252.2451,-219.5 252.2451,-255.5 351.0898,-255.5 351.0898,-219.5 252.2451,-219.5\" stroke=\"#000000\"/>\n",
       "<text fill=\"#000000\" font-family=\"Times,serif\" font-size=\"14.00\" text-anchor=\"middle\" x=\"301.6675\" y=\"-233.3\">lstm_7: LSTM</text>\n",
       "</g>\n",
       "<!-- 103860611672&#45;&gt;103861675456 -->\n",
       "<g class=\"edge\" id=\"edge13\">\n",
       "<title>103860611672-&gt;103861675456</title>\n",
       "<path d=\"M301.6675,-292.4551C301.6675,-284.3828 301.6675,-274.6764 301.6675,-265.6817\" fill=\"none\" stroke=\"#000000\"/>\n",
       "<polygon fill=\"#000000\" points=\"305.1676,-265.5903 301.6675,-255.5904 298.1676,-265.5904 305.1676,-265.5903\" stroke=\"#000000\"/>\n",
       "</g>\n",
       "<!-- 103850095784 -->\n",
       "<g class=\"node\" id=\"node14\">\n",
       "<title>103850095784</title>\n",
       "<polygon fill=\"none\" points=\"450.2451,-219.5 450.2451,-255.5 549.0898,-255.5 549.0898,-219.5 450.2451,-219.5\" stroke=\"#000000\"/>\n",
       "<text fill=\"#000000\" font-family=\"Times,serif\" font-size=\"14.00\" text-anchor=\"middle\" x=\"499.6675\" y=\"-233.3\">lstm_8: LSTM</text>\n",
       "</g>\n",
       "<!-- 103813902176&#45;&gt;103850095784 -->\n",
       "<g class=\"edge\" id=\"edge14\">\n",
       "<title>103813902176-&gt;103850095784</title>\n",
       "<path d=\"M499.6675,-292.4551C499.6675,-284.3828 499.6675,-274.6764 499.6675,-265.6817\" fill=\"none\" stroke=\"#000000\"/>\n",
       "<polygon fill=\"#000000\" points=\"503.1676,-265.5903 499.6675,-255.5904 496.1676,-265.5904 503.1676,-265.5903\" stroke=\"#000000\"/>\n",
       "</g>\n",
       "<!-- 103851973264 -->\n",
       "<g class=\"node\" id=\"node15\">\n",
       "<title>103851973264</title>\n",
       "<polygon fill=\"none\" points=\"237.8657,-146.5 237.8657,-182.5 365.4692,-182.5 365.4692,-146.5 237.8657,-146.5\" stroke=\"#000000\"/>\n",
       "<text fill=\"#000000\" font-family=\"Times,serif\" font-size=\"14.00\" text-anchor=\"middle\" x=\"301.6675\" y=\"-160.3\">dropout_3: Dropout</text>\n",
       "</g>\n",
       "<!-- 103861675456&#45;&gt;103851973264 -->\n",
       "<g class=\"edge\" id=\"edge15\">\n",
       "<title>103861675456-&gt;103851973264</title>\n",
       "<path d=\"M301.6675,-219.4551C301.6675,-211.3828 301.6675,-201.6764 301.6675,-192.6817\" fill=\"none\" stroke=\"#000000\"/>\n",
       "<polygon fill=\"#000000\" points=\"305.1676,-192.5903 301.6675,-182.5904 298.1676,-192.5904 305.1676,-192.5903\" stroke=\"#000000\"/>\n",
       "</g>\n",
       "<!-- 103852898456 -->\n",
       "<g class=\"node\" id=\"node16\">\n",
       "<title>103852898456</title>\n",
       "<polygon fill=\"none\" points=\"435.8657,-146.5 435.8657,-182.5 563.4692,-182.5 563.4692,-146.5 435.8657,-146.5\" stroke=\"#000000\"/>\n",
       "<text fill=\"#000000\" font-family=\"Times,serif\" font-size=\"14.00\" text-anchor=\"middle\" x=\"499.6675\" y=\"-160.3\">dropout_4: Dropout</text>\n",
       "</g>\n",
       "<!-- 103850095784&#45;&gt;103852898456 -->\n",
       "<g class=\"edge\" id=\"edge16\">\n",
       "<title>103850095784-&gt;103852898456</title>\n",
       "<path d=\"M499.6675,-219.4551C499.6675,-211.3828 499.6675,-201.6764 499.6675,-192.6817\" fill=\"none\" stroke=\"#000000\"/>\n",
       "<polygon fill=\"#000000\" points=\"503.1676,-192.5903 499.6675,-182.5904 496.1676,-192.5904 503.1676,-192.5903\" stroke=\"#000000\"/>\n",
       "</g>\n",
       "<!-- 103852899296 -->\n",
       "<g class=\"node\" id=\"node17\">\n",
       "<title>103852899296</title>\n",
       "<polygon fill=\"none\" points=\"252.2451,-73.5 252.2451,-109.5 351.0898,-109.5 351.0898,-73.5 252.2451,-73.5\" stroke=\"#000000\"/>\n",
       "<text fill=\"#000000\" font-family=\"Times,serif\" font-size=\"14.00\" text-anchor=\"middle\" x=\"301.6675\" y=\"-87.3\">lstm_9: LSTM</text>\n",
       "</g>\n",
       "<!-- 103851973264&#45;&gt;103852899296 -->\n",
       "<g class=\"edge\" id=\"edge17\">\n",
       "<title>103851973264-&gt;103852899296</title>\n",
       "<path d=\"M301.6675,-146.4551C301.6675,-138.3828 301.6675,-128.6764 301.6675,-119.6817\" fill=\"none\" stroke=\"#000000\"/>\n",
       "<polygon fill=\"#000000\" points=\"305.1676,-119.5903 301.6675,-109.5904 298.1676,-119.5904 305.1676,-119.5903\" stroke=\"#000000\"/>\n",
       "</g>\n",
       "<!-- 103874341016 -->\n",
       "<g class=\"node\" id=\"node18\">\n",
       "<title>103874341016</title>\n",
       "<polygon fill=\"none\" points=\"446.7451,-73.5 446.7451,-109.5 552.5898,-109.5 552.5898,-73.5 446.7451,-73.5\" stroke=\"#000000\"/>\n",
       "<text fill=\"#000000\" font-family=\"Times,serif\" font-size=\"14.00\" text-anchor=\"middle\" x=\"499.6675\" y=\"-87.3\">lstm_10: LSTM</text>\n",
       "</g>\n",
       "<!-- 103852898456&#45;&gt;103874341016 -->\n",
       "<g class=\"edge\" id=\"edge18\">\n",
       "<title>103852898456-&gt;103874341016</title>\n",
       "<path d=\"M499.6675,-146.4551C499.6675,-138.3828 499.6675,-128.6764 499.6675,-119.6817\" fill=\"none\" stroke=\"#000000\"/>\n",
       "<polygon fill=\"#000000\" points=\"503.1676,-119.5903 499.6675,-109.5904 496.1676,-119.5904 503.1676,-119.5903\" stroke=\"#000000\"/>\n",
       "</g>\n",
       "<!-- 103651653336 -->\n",
       "<g class=\"node\" id=\"node19\">\n",
       "<title>103651653336</title>\n",
       "<polygon fill=\"none\" points=\"239.0381,-.5 239.0381,-36.5 364.2969,-36.5 364.2969,-.5 239.0381,-.5\" stroke=\"#000000\"/>\n",
       "<text fill=\"#000000\" font-family=\"Times,serif\" font-size=\"14.00\" text-anchor=\"middle\" x=\"301.6675\" y=\"-14.3\">note_output: Dense</text>\n",
       "</g>\n",
       "<!-- 103852899296&#45;&gt;103651653336 -->\n",
       "<g class=\"edge\" id=\"edge19\">\n",
       "<title>103852899296-&gt;103651653336</title>\n",
       "<path d=\"M301.6675,-73.4551C301.6675,-65.3828 301.6675,-55.6764 301.6675,-46.6817\" fill=\"none\" stroke=\"#000000\"/>\n",
       "<polygon fill=\"#000000\" points=\"305.1676,-46.5903 301.6675,-36.5904 298.1676,-46.5904 305.1676,-46.5903\" stroke=\"#000000\"/>\n",
       "</g>\n",
       "<!-- 103882561744 -->\n",
       "<g class=\"node\" id=\"node20\">\n",
       "<title>103882561744</title>\n",
       "<polygon fill=\"none\" points=\"431.5933,-.5 431.5933,-36.5 567.7417,-36.5 567.7417,-.5 431.5933,-.5\" stroke=\"#000000\"/>\n",
       "<text fill=\"#000000\" font-family=\"Times,serif\" font-size=\"14.00\" text-anchor=\"middle\" x=\"499.6675\" y=\"-14.3\">length_output: Dense</text>\n",
       "</g>\n",
       "<!-- 103874341016&#45;&gt;103882561744 -->\n",
       "<g class=\"edge\" id=\"edge20\">\n",
       "<title>103874341016-&gt;103882561744</title>\n",
       "<path d=\"M499.6675,-73.4551C499.6675,-65.3828 499.6675,-55.6764 499.6675,-46.6817\" fill=\"none\" stroke=\"#000000\"/>\n",
       "<polygon fill=\"#000000\" points=\"503.1676,-46.5903 499.6675,-36.5904 496.1676,-46.5904 503.1676,-46.5903\" stroke=\"#000000\"/>\n",
       "</g>\n",
       "</g>\n",
       "</svg>"
      ],
      "text/plain": [
       "<IPython.core.display.SVG object>"
      ]
     },
     "execution_count": 9,
     "metadata": {},
     "output_type": "execute_result"
    }
   ],
   "source": [
    "SVG(model_to_dot(model).create(prog='dot', format='svg'))"
   ]
  },
  {
   "cell_type": "code",
   "execution_count": 10,
   "metadata": {
    "collapsed": true
   },
   "outputs": [],
   "source": [
    "# learning rate schedule\n",
    "def step_decay(epoch):\n",
    "\tinitial_lrate = 0.1\n",
    "\tdrop = 0.6\n",
    "\tepochs_drop = 25\n",
    "\tlrate = initial_lrate * math.pow(drop, math.floor((1+epoch)/epochs_drop))\n",
    "\treturn lrate"
   ]
  },
  {
   "cell_type": "code",
   "execution_count": 11,
   "metadata": {
    "collapsed": true
   },
   "outputs": [],
   "source": [
    "def listen_callback(epoch, logs):\n",
    "    if epoch % 5 == 0 and epoch > -1: \n",
    "    # if epoch < -2:\n",
    "        print('----- Generating melody after Epoch: %d' % epoch)\n",
    "        \n",
    "        start_index = random.randint(0, 7000)\n",
    "        for diversity in [0.5]:\n",
    "            print('----- diversity:', diversity)\n",
    "\n",
    "            current_note_phrase = notes_corpus[start_index: start_index + n_time_steps]\n",
    "            current_length_phrase = length_corpus[start_index: start_index + n_time_steps]\n",
    "\n",
    "            phrases = {'note_phrase': current_note_phrase, 'length_phrase': current_length_phrase}\n",
    "\n",
    "            generated_notes = []\n",
    "            generated_lengths = []\n",
    "            generated_notes.extend(current_note_phrase)\n",
    "            generated_lengths.extend(current_length_phrase)\n",
    "\n",
    "            # model, phrases,categorized_variables, lookup_indicies, n_time_steps, diversity, n_to_generate\n",
    "            for step in range(70):\n",
    "                encoded_prediction = make_encoded_prediction(\n",
    "                    model=model,\n",
    "                    phrases=phrases,\n",
    "                    categorized_variables=categorized_variables,\n",
    "                    lookup_indicies=lookup_indicies,\n",
    "                    n_time_steps=n_time_steps\n",
    "                )\n",
    "\n",
    "                predictions = decode_predictions(\n",
    "                    encoded_prediction=encoded_prediction,\n",
    "                    lookup_indicies=lookup_indicies,\n",
    "                    temperature=diversity\n",
    "                )\n",
    "\n",
    "                generated_notes.append(predictions['note_prediction']) \n",
    "                generated_lengths.append(predictions['length_prediction']) \n",
    "\n",
    "                phrases['note_phrase'] = np.append(phrases['note_phrase'][1:], predictions['note_prediction'])\n",
    "                phrases['length_phrase'] = np.append(phrases['length_phrase'][1:], predictions['length_prediction'])\n",
    "\n",
    "            play_generated_phrase(\n",
    "                generated_notes=generated_notes[10:],\n",
    "                generated_lengths=generated_lengths[10:],\n",
    "                player=player)"
   ]
  },
  {
   "cell_type": "code",
   "execution_count": 12,
   "metadata": {
    "collapsed": true
   },
   "outputs": [],
   "source": [
    "lrate = LearningRateScheduler(step_decay)"
   ]
  },
  {
   "cell_type": "code",
   "execution_count": 13,
   "metadata": {
    "collapsed": true
   },
   "outputs": [],
   "source": [
    "tensorboard = TensorBoard(log_dir=\"./logs/{}\".format(datetime.datetime.now()), histogram_freq=0, write_graph=True)"
   ]
  },
  {
   "cell_type": "code",
   "execution_count": 14,
   "metadata": {
    "collapsed": true
   },
   "outputs": [],
   "source": [
    "listen_callback = LambdaCallback(on_epoch_end=listen_callback)"
   ]
  },
  {
   "cell_type": "code",
   "execution_count": 15,
   "metadata": {
    "scrolled": false
   },
   "outputs": [
    {
     "name": "stdout",
     "output_type": "stream",
     "text": [
      "          **********************************\n",
      "            TRAINING\n",
      "          **********************************\n"
     ]
    },
    {
     "ename": "ValueError",
     "evalue": "Error when checking target: expected note_output to have 3 dimensions, but got array with shape (27567, 128)",
     "output_type": "error",
     "traceback": [
      "\u001b[0;31m--------------------------------------------------------------\u001b[0m",
      "\u001b[0;31mValueError\u001b[0m                   Traceback (most recent call last)",
      "\u001b[0;32m<ipython-input-15-ae9ca3230123>\u001b[0m in \u001b[0;36m<module>\u001b[0;34m()\u001b[0m\n\u001b[1;32m      5\u001b[0m           callbacks=[\n\u001b[1;32m      6\u001b[0m               \u001b[0mlisten_callback\u001b[0m\u001b[0;34m,\u001b[0m\u001b[0;34m\u001b[0m\u001b[0m\n\u001b[0;32m----> 7\u001b[0;31m               \u001b[0mtensorboard\u001b[0m\u001b[0;34m,\u001b[0m\u001b[0;34m\u001b[0m\u001b[0m\n\u001b[0m\u001b[1;32m      8\u001b[0m             ]\n\u001b[1;32m      9\u001b[0m           )\n",
      "\u001b[0;32m~/anaconda3/lib/python3.6/site-packages/keras/engine/training.py\u001b[0m in \u001b[0;36mfit\u001b[0;34m(self, x, y, batch_size, epochs, verbose, callbacks, validation_split, validation_data, shuffle, class_weight, sample_weight, initial_epoch, steps_per_epoch, validation_steps, **kwargs)\u001b[0m\n\u001b[1;32m   1591\u001b[0m             \u001b[0mclass_weight\u001b[0m\u001b[0;34m=\u001b[0m\u001b[0mclass_weight\u001b[0m\u001b[0;34m,\u001b[0m\u001b[0;34m\u001b[0m\u001b[0m\n\u001b[1;32m   1592\u001b[0m             \u001b[0mcheck_batch_axis\u001b[0m\u001b[0;34m=\u001b[0m\u001b[0;32mFalse\u001b[0m\u001b[0;34m,\u001b[0m\u001b[0;34m\u001b[0m\u001b[0m\n\u001b[0;32m-> 1593\u001b[0;31m             batch_size=batch_size)\n\u001b[0m\u001b[1;32m   1594\u001b[0m         \u001b[0;31m# Prepare validation data.\u001b[0m\u001b[0;34m\u001b[0m\u001b[0;34m\u001b[0m\u001b[0m\n\u001b[1;32m   1595\u001b[0m         \u001b[0mdo_validation\u001b[0m \u001b[0;34m=\u001b[0m \u001b[0;32mFalse\u001b[0m\u001b[0;34m\u001b[0m\u001b[0m\n",
      "\u001b[0;32m~/anaconda3/lib/python3.6/site-packages/keras/engine/training.py\u001b[0m in \u001b[0;36m_standardize_user_data\u001b[0;34m(self, x, y, sample_weight, class_weight, check_batch_axis, batch_size)\u001b[0m\n\u001b[1;32m   1428\u001b[0m                                     \u001b[0moutput_shapes\u001b[0m\u001b[0;34m,\u001b[0m\u001b[0;34m\u001b[0m\u001b[0m\n\u001b[1;32m   1429\u001b[0m                                     \u001b[0mcheck_batch_axis\u001b[0m\u001b[0;34m=\u001b[0m\u001b[0;32mFalse\u001b[0m\u001b[0;34m,\u001b[0m\u001b[0;34m\u001b[0m\u001b[0m\n\u001b[0;32m-> 1430\u001b[0;31m                                     exception_prefix='target')\n\u001b[0m\u001b[1;32m   1431\u001b[0m         sample_weights = _standardize_sample_weights(sample_weight,\n\u001b[1;32m   1432\u001b[0m                                                      self._feed_output_names)\n",
      "\u001b[0;32m~/anaconda3/lib/python3.6/site-packages/keras/engine/training.py\u001b[0m in \u001b[0;36m_standardize_input_data\u001b[0;34m(data, names, shapes, check_batch_axis, exception_prefix)\u001b[0m\n\u001b[1;32m    108\u001b[0m                         \u001b[0;34m': expected '\u001b[0m \u001b[0;34m+\u001b[0m \u001b[0mnames\u001b[0m\u001b[0;34m[\u001b[0m\u001b[0mi\u001b[0m\u001b[0;34m]\u001b[0m \u001b[0;34m+\u001b[0m \u001b[0;34m' to have '\u001b[0m \u001b[0;34m+\u001b[0m\u001b[0;34m\u001b[0m\u001b[0m\n\u001b[1;32m    109\u001b[0m                         \u001b[0mstr\u001b[0m\u001b[0;34m(\u001b[0m\u001b[0mlen\u001b[0m\u001b[0;34m(\u001b[0m\u001b[0mshape\u001b[0m\u001b[0;34m)\u001b[0m\u001b[0;34m)\u001b[0m \u001b[0;34m+\u001b[0m \u001b[0;34m' dimensions, but got array '\u001b[0m\u001b[0;34m\u001b[0m\u001b[0m\n\u001b[0;32m--> 110\u001b[0;31m                         'with shape ' + str(data_shape))\n\u001b[0m\u001b[1;32m    111\u001b[0m                 \u001b[0;32mif\u001b[0m \u001b[0;32mnot\u001b[0m \u001b[0mcheck_batch_axis\u001b[0m\u001b[0;34m:\u001b[0m\u001b[0;34m\u001b[0m\u001b[0m\n\u001b[1;32m    112\u001b[0m                     \u001b[0mdata_shape\u001b[0m \u001b[0;34m=\u001b[0m \u001b[0mdata_shape\u001b[0m\u001b[0;34m[\u001b[0m\u001b[0;36m1\u001b[0m\u001b[0;34m:\u001b[0m\u001b[0;34m]\u001b[0m\u001b[0;34m\u001b[0m\u001b[0m\n",
      "\u001b[0;31mValueError\u001b[0m: Error when checking target: expected note_output to have 3 dimensions, but got array with shape (27567, 128)"
     ]
    }
   ],
   "source": [
    "logger('TRAINING')\n",
    "model.fit([note_x, length_x], [note_y, length_y],\n",
    "          batch_size=batch_size,\n",
    "          epochs=epochs,\n",
    "          callbacks=[\n",
    "              listen_callback,\n",
    "              tensorboard,\n",
    "            ]\n",
    "          )"
   ]
  },
  {
   "cell_type": "code",
   "execution_count": null,
   "metadata": {
    "collapsed": true
   },
   "outputs": [],
   "source": [
    "save_model(model, 'model_2')"
   ]
  },
  {
   "cell_type": "code",
   "execution_count": null,
   "metadata": {
    "collapsed": true
   },
   "outputs": [],
   "source": []
  }
 ],
 "metadata": {
  "kernelspec": {
   "display_name": "Python 3",
   "language": "python",
   "name": "python3"
  },
  "language_info": {
   "codemirror_mode": {
    "name": "ipython",
    "version": 3
   },
   "file_extension": ".py",
   "mimetype": "text/x-python",
   "name": "python",
   "nbconvert_exporter": "python",
   "pygments_lexer": "ipython3",
   "version": "3.6.4"
  }
 },
 "nbformat": 4,
 "nbformat_minor": 1
}
