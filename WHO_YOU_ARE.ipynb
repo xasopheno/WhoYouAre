{
 "cells": [
  {
   "cell_type": "markdown",
   "metadata": {},
   "source": [
    "## Imports"
   ]
  },
  {
   "cell_type": "code",
   "execution_count": 12,
   "metadata": {},
   "outputs": [],
   "source": [
    "import numpy as np\n",
    "import time\n",
    "import datetime\n",
    "import random\n",
    "\n",
    "from keras.callbacks import LambdaCallback\n",
    "from keras.utils import plot_model\n",
    "from keras.callbacks import TensorBoard\n",
    "\n",
    "from pandas import read_csv\n",
    "from Audio.Components.MidiPlayer import MidiPlayer\n",
    "\n",
    "from keras.utils.vis_utils import model_to_dot\n",
    "from keras.callbacks import LearningRateScheduler\n",
    "from matplotlib import pyplot\n",
    "from IPython.display import SVG\n",
    "import pydot\n",
    "import graphviz\n",
    "\n",
    "from NN.networks.windowed_model import create_model\n",
    "# from NN.models.separate_model import create_model\n",
    "\n",
    "from Audio.Components.helpers.prepare_arrays import prepare_notes, prepare_lengths\n",
    "from Audio.Components.helpers.save_model import save_model\n",
    "from Audio.Components.helpers.make_encoded_prediction import make_encoded_prediction\n",
    "from Audio.Components.helpers.create_categorical_indicies import create_category_indicies\n",
    "from Audio.Components.helpers.generate_phrases import generate_phrases\n",
    "from Audio.Components.helpers.decode_predictions import decode_predictions\n",
    "from Audio.Components.helpers.play_generated_phrase import play_generated_phrase\n",
    "from Audio.Components.helpers.vectorize_phrases import vectorize_phrases\n",
    "from Audio.Components.helpers.logger import logger\n",
    "import constants"
   ]
  },
  {
   "cell_type": "markdown",
   "metadata": {
    "collapsed": true
   },
   "source": [
    "## Constants"
   ]
  },
  {
   "cell_type": "code",
   "execution_count": 33,
   "metadata": {},
   "outputs": [
    {
     "name": "stdout",
     "output_type": "stream",
     "text": [
      "['IAC Driver Bus 1', 'IAC Driver LocalMidi']\n"
     ]
    }
   ],
   "source": [
    "player = MidiPlayer()\n",
    "dropout = 0.5\n",
    "n_time_steps = constants.n_time_steps\n",
    "semi_redundancy_step = constants.semi_redundancy_step\n",
    "lstm_size = 16\n",
    "lr = constants.lr\n",
    "epochs = constants.epochs\n",
    "batch_size = constants.batch_size\n",
    "n_to_generate = constants.n_to_generate"
   ]
  },
  {
   "cell_type": "code",
   "execution_count": 34,
   "metadata": {},
   "outputs": [
    {
     "name": "stdout",
     "output_type": "stream",
     "text": [
      "          **********************************\n",
      "            PREPROCESSING\n",
      "          **********************************\n",
      "corpus length: 32440\n"
     ]
    }
   ],
   "source": [
    "logger('PREPROCESSING')\n",
    "corpus = read_csv('Audio/data/input.csv', header=1)\n",
    "print('corpus length:', len(corpus))\n",
    "notes_corpus = corpus.values[:, 0]\n",
    "length_corpus = corpus.values[:, 1]"
   ]
  },
  {
   "cell_type": "code",
   "execution_count": 35,
   "metadata": {},
   "outputs": [],
   "source": [
    "categorized_variables = {\n",
    "    'note_categories': prepare_notes(),\n",
    "    'length_categories': prepare_lengths()\n",
    "}"
   ]
  },
  {
   "cell_type": "code",
   "execution_count": 36,
   "metadata": {},
   "outputs": [
    {
     "name": "stdout",
     "output_type": "stream",
     "text": [
      "[[62. 58. 57.  0. 69. 67. 63. 62.  0. 68. 65. 61. 60.  0. 66. 63. 59. 58.\n",
      "   0. 65. 62. 58. 57.  0. 64.  0. 64. 61. 57. 56.]\n",
      " [58. 57.  0. 69. 67. 63. 62.  0. 68. 65. 61. 60.  0. 66. 63. 59. 58.  0.\n",
      "  65. 62. 58. 57.  0. 64.  0. 64. 61. 57. 56. 60.]\n",
      " [57.  0. 69. 67. 63. 62.  0. 68. 65. 61. 60.  0. 66. 63. 59. 58.  0. 65.\n",
      "  62. 58. 57.  0. 64.  0. 64. 61. 57. 56. 60. 57.]\n",
      " [ 0. 69. 67. 63. 62.  0. 68. 65. 61. 60.  0. 66. 63. 59. 58.  0. 65. 62.\n",
      "  58. 57.  0. 64.  0. 64. 61. 57. 56. 60. 57. 53.]\n",
      " [69. 67. 63. 62.  0. 68. 65. 61. 60.  0. 66. 63. 59. 58.  0. 65. 62. 58.\n",
      "  57.  0. 64.  0. 64. 61. 57. 56. 60. 57. 53. 52.]\n",
      " [67. 63. 62.  0. 68. 65. 61. 60.  0. 66. 63. 59. 58.  0. 65. 62. 58. 57.\n",
      "   0. 64.  0. 64. 61. 57. 56. 60. 57. 53. 52. 58.]\n",
      " [63. 62.  0. 68. 65. 61. 60.  0. 66. 63. 59. 58.  0. 65. 62. 58. 57.  0.\n",
      "  64.  0. 64. 61. 57. 56. 60. 57. 53. 52. 58. 55.]\n",
      " [62.  0. 68. 65. 61. 60.  0. 66. 63. 59. 58.  0. 65. 62. 58. 57.  0. 64.\n",
      "   0. 64. 61. 57. 56. 60. 57. 53. 52. 58. 55. 51.]\n",
      " [ 0. 68. 65. 61. 60.  0. 66. 63. 59. 58.  0. 65. 62. 58. 57.  0. 64.  0.\n",
      "  64. 61. 57. 56. 60. 57. 53. 52. 58. 55. 51. 50.]\n",
      " [68. 65. 61. 60.  0. 66. 63. 59. 58.  0. 65. 62. 58. 57.  0. 64.  0. 64.\n",
      "  61. 57. 56. 60. 57. 53. 52. 58. 55. 51. 50.  0.]]\n"
     ]
    }
   ],
   "source": [
    "note_index, index_note = create_category_indicies(categorized_variables['note_categories'])\n",
    "lengths_index, index_lengths = create_category_indicies(categorized_variables['length_categories'])\n",
    "\n",
    "lookup_indicies = {\n",
    "    'note_index': note_index,\n",
    "    'index_note': index_note,\n",
    "    'lengths_index': lengths_index,\n",
    "    'index_lengths': index_lengths,\n",
    "}\n",
    "\n",
    "note_phrases, next_note = generate_phrases(notes_corpus, n_time_steps, semi_redundancy_step)\n",
    "length_phrases, next_length = generate_phrases(length_corpus, n_time_steps, semi_redundancy_step)\n",
    "print(note_phrases[0:10])"
   ]
  },
  {
   "cell_type": "code",
   "execution_count": 37,
   "metadata": {},
   "outputs": [
    {
     "name": "stdout",
     "output_type": "stream",
     "text": [
      "(32410, 30, 128) note_x.shape\n",
      "(32410, 30, 141) length_x.shape\n",
      "(32410, 128) note_y.shape\n",
      "(32410, 141) length_y.shape\n"
     ]
    }
   ],
   "source": [
    "note_x, note_y = vectorize_phrases(\n",
    "    phrases=note_phrases,\n",
    "    n_categories=len(categorized_variables['note_categories']),\n",
    "    n_time_steps=n_time_steps,\n",
    "    lookup_index=lookup_indicies['note_index'],\n",
    "    next_lookup_index=next_note\n",
    "    )\n",
    "\n",
    "length_x, length_y = vectorize_phrases(\n",
    "    phrases=length_phrases,\n",
    "    n_categories=len(categorized_variables['length_categories']),\n",
    "    n_time_steps=n_time_steps,\n",
    "    lookup_index=lookup_indicies['lengths_index'],\n",
    "    next_lookup_index=next_length\n",
    ")\n",
    "\n",
    "print(note_x.shape, 'note_x.shape')\n",
    "print(length_x.shape, 'length_x.shape')\n",
    "print(note_y.shape, 'note_y.shape')\n",
    "print(length_y.shape, 'length_y.shape')"
   ]
  },
  {
   "cell_type": "code",
   "execution_count": 38,
   "metadata": {
    "collapsed": true
   },
   "outputs": [],
   "source": [
    "model = create_model(\n",
    "    categorized_variables=categorized_variables,\n",
    "    lstm_size=lstm_size,\n",
    "    lr=0.001,\n",
    "    n_time_steps=n_time_steps,\n",
    "    dropout=dropout,\n",
    ")"
   ]
  },
  {
   "cell_type": "code",
   "execution_count": 39,
   "metadata": {},
   "outputs": [
    {
     "name": "stdout",
     "output_type": "stream",
     "text": [
      "__________________________________________________________________________________________________\n",
      "Layer (type)                    Output Shape         Param #     Connected to                     \n",
      "==================================================================================================\n",
      "note_input (InputLayer)         (None, 30, 128)      0                                            \n",
      "__________________________________________________________________________________________________\n",
      "length_input (InputLayer)       (None, 30, 141)      0                                            \n",
      "__________________________________________________________________________________________________\n",
      "bidirectional_5 (Bidirectional) (None, 30, 32)       18560       note_input[0][0]                 \n",
      "__________________________________________________________________________________________________\n",
      "bidirectional_6 (Bidirectional) (None, 30, 32)       20224       length_input[0][0]               \n",
      "__________________________________________________________________________________________________\n",
      "dropout_5 (Dropout)             (None, 30, 32)       0           bidirectional_5[0][0]            \n",
      "__________________________________________________________________________________________________\n",
      "dropout_6 (Dropout)             (None, 30, 32)       0           bidirectional_6[0][0]            \n",
      "__________________________________________________________________________________________________\n",
      "bidirectional_7 (Bidirectional) (None, 30, 32)       6272        dropout_5[0][0]                  \n",
      "__________________________________________________________________________________________________\n",
      "lstm_16 (LSTM)                  (None, 30, 4)        592         dropout_6[0][0]                  \n",
      "__________________________________________________________________________________________________\n",
      "bidirectional_8 (Bidirectional) (None, 30, 32)       6272        dropout_6[0][0]                  \n",
      "__________________________________________________________________________________________________\n",
      "lstm_14 (LSTM)                  (None, 30, 4)        592         dropout_5[0][0]                  \n",
      "__________________________________________________________________________________________________\n",
      "concatenate_3 (Concatenate)     (None, 30, 36)       0           bidirectional_7[0][0]            \n",
      "                                                                 lstm_16[0][0]                    \n",
      "__________________________________________________________________________________________________\n",
      "concatenate_4 (Concatenate)     (None, 30, 36)       0           bidirectional_8[0][0]            \n",
      "                                                                 lstm_14[0][0]                    \n",
      "__________________________________________________________________________________________________\n",
      "lstm_17 (LSTM)                  (None, 30, 16)       3392        concatenate_3[0][0]              \n",
      "__________________________________________________________________________________________________\n",
      "lstm_18 (LSTM)                  (None, 30, 16)       3392        concatenate_4[0][0]              \n",
      "__________________________________________________________________________________________________\n",
      "dropout_7 (Dropout)             (None, 30, 16)       0           lstm_17[0][0]                    \n",
      "__________________________________________________________________________________________________\n",
      "dropout_8 (Dropout)             (None, 30, 16)       0           lstm_18[0][0]                    \n",
      "__________________________________________________________________________________________________\n",
      "lstm_19 (LSTM)                  (None, 16)           2112        dropout_7[0][0]                  \n",
      "__________________________________________________________________________________________________\n",
      "lstm_20 (LSTM)                  (None, 16)           2112        dropout_8[0][0]                  \n",
      "__________________________________________________________________________________________________\n",
      "note_output (Dense)             (None, 128)          2176        lstm_19[0][0]                    \n",
      "__________________________________________________________________________________________________\n",
      "length_output (Dense)           (None, 141)          2397        lstm_20[0][0]                    \n",
      "==================================================================================================\n",
      "Total params: 68,093\n",
      "Trainable params: 68,093\n",
      "Non-trainable params: 0\n",
      "__________________________________________________________________________________________________\n"
     ]
    }
   ],
   "source": [
    "model.summary()"
   ]
  },
  {
   "cell_type": "code",
   "execution_count": 40,
   "metadata": {
    "scrolled": false
   },
   "outputs": [
    {
     "data": {
      "image/svg+xml": [
       "<svg height=\"629pt\" viewBox=\"0.00 0.00 838.33 629.00\" width=\"838pt\" xmlns=\"http://www.w3.org/2000/svg\" xmlns:xlink=\"http://www.w3.org/1999/xlink\">\n",
       "<g class=\"graph\" id=\"graph0\" transform=\"scale(1 1) rotate(0) translate(4 625)\">\n",
       "<title>G</title>\n",
       "<polygon fill=\"#ffffff\" points=\"-4,4 -4,-625 834.335,-625 834.335,4 -4,4\" stroke=\"transparent\"/>\n",
       "<!-- 121456865232 -->\n",
       "<g class=\"node\" id=\"node1\">\n",
       "<title>121456865232</title>\n",
       "<polygon fill=\"none\" points=\"183.4346,-584.5 183.4346,-620.5 328.9004,-620.5 328.9004,-584.5 183.4346,-584.5\" stroke=\"#000000\"/>\n",
       "<text fill=\"#000000\" font-family=\"Times,serif\" font-size=\"14.00\" text-anchor=\"middle\" x=\"256.1675\" y=\"-598.3\">note_input: InputLayer</text>\n",
       "</g>\n",
       "<!-- 121456947040 -->\n",
       "<g class=\"node\" id=\"node3\">\n",
       "<title>121456947040</title>\n",
       "<polygon fill=\"none\" points=\"115.2563,-511.5 115.2563,-547.5 397.0786,-547.5 397.0786,-511.5 115.2563,-511.5\" stroke=\"#000000\"/>\n",
       "<text fill=\"#000000\" font-family=\"Times,serif\" font-size=\"14.00\" text-anchor=\"middle\" x=\"256.1675\" y=\"-525.3\">bidirectional_5(lstm_11): Bidirectional(LSTM)</text>\n",
       "</g>\n",
       "<!-- 121456865232&#45;&gt;121456947040 -->\n",
       "<g class=\"edge\" id=\"edge1\">\n",
       "<title>121456865232-&gt;121456947040</title>\n",
       "<path d=\"M256.1675,-584.4551C256.1675,-576.3828 256.1675,-566.6764 256.1675,-557.6817\" fill=\"none\" stroke=\"#000000\"/>\n",
       "<polygon fill=\"#000000\" points=\"259.6676,-557.5903 256.1675,-547.5904 252.6676,-557.5904 259.6676,-557.5903\" stroke=\"#000000\"/>\n",
       "</g>\n",
       "<!-- 103766593944 -->\n",
       "<g class=\"node\" id=\"node2\">\n",
       "<title>103766593944</title>\n",
       "<polygon fill=\"none\" points=\"495.9897,-584.5 495.9897,-620.5 652.3452,-620.5 652.3452,-584.5 495.9897,-584.5\" stroke=\"#000000\"/>\n",
       "<text fill=\"#000000\" font-family=\"Times,serif\" font-size=\"14.00\" text-anchor=\"middle\" x=\"574.1675\" y=\"-598.3\">length_input: InputLayer</text>\n",
       "</g>\n",
       "<!-- 121479658744 -->\n",
       "<g class=\"node\" id=\"node4\">\n",
       "<title>121479658744</title>\n",
       "<polygon fill=\"none\" points=\"433,-511.5 433,-547.5 715.335,-547.5 715.335,-511.5 433,-511.5\" stroke=\"#000000\"/>\n",
       "<text fill=\"#000000\" font-family=\"Times,serif\" font-size=\"14.00\" text-anchor=\"middle\" x=\"574.1675\" y=\"-525.3\">bidirectional_6(lstm_12): Bidirectional(LSTM)</text>\n",
       "</g>\n",
       "<!-- 103766593944&#45;&gt;121479658744 -->\n",
       "<g class=\"edge\" id=\"edge2\">\n",
       "<title>103766593944-&gt;121479658744</title>\n",
       "<path d=\"M574.1675,-584.4551C574.1675,-576.3828 574.1675,-566.6764 574.1675,-557.6817\" fill=\"none\" stroke=\"#000000\"/>\n",
       "<polygon fill=\"#000000\" points=\"577.6676,-557.5903 574.1675,-547.5904 570.6676,-557.5904 577.6676,-557.5903\" stroke=\"#000000\"/>\n",
       "</g>\n",
       "<!-- 121456146864 -->\n",
       "<g class=\"node\" id=\"node5\">\n",
       "<title>121456146864</title>\n",
       "<polygon fill=\"none\" points=\"192.3657,-438.5 192.3657,-474.5 319.9692,-474.5 319.9692,-438.5 192.3657,-438.5\" stroke=\"#000000\"/>\n",
       "<text fill=\"#000000\" font-family=\"Times,serif\" font-size=\"14.00\" text-anchor=\"middle\" x=\"256.1675\" y=\"-452.3\">dropout_5: Dropout</text>\n",
       "</g>\n",
       "<!-- 121456947040&#45;&gt;121456146864 -->\n",
       "<g class=\"edge\" id=\"edge3\">\n",
       "<title>121456947040-&gt;121456146864</title>\n",
       "<path d=\"M256.1675,-511.4551C256.1675,-503.3828 256.1675,-493.6764 256.1675,-484.6817\" fill=\"none\" stroke=\"#000000\"/>\n",
       "<polygon fill=\"#000000\" points=\"259.6676,-484.5903 256.1675,-474.5904 252.6676,-484.5904 259.6676,-484.5903\" stroke=\"#000000\"/>\n",
       "</g>\n",
       "<!-- 121455044480 -->\n",
       "<g class=\"node\" id=\"node6\">\n",
       "<title>121455044480</title>\n",
       "<polygon fill=\"none\" points=\"510.3657,-438.5 510.3657,-474.5 637.9692,-474.5 637.9692,-438.5 510.3657,-438.5\" stroke=\"#000000\"/>\n",
       "<text fill=\"#000000\" font-family=\"Times,serif\" font-size=\"14.00\" text-anchor=\"middle\" x=\"574.1675\" y=\"-452.3\">dropout_6: Dropout</text>\n",
       "</g>\n",
       "<!-- 121479658744&#45;&gt;121455044480 -->\n",
       "<g class=\"edge\" id=\"edge4\">\n",
       "<title>121479658744-&gt;121455044480</title>\n",
       "<path d=\"M574.1675,-511.4551C574.1675,-503.3828 574.1675,-493.6764 574.1675,-484.6817\" fill=\"none\" stroke=\"#000000\"/>\n",
       "<polygon fill=\"#000000\" points=\"577.6676,-484.5903 574.1675,-474.5904 570.6676,-484.5904 577.6676,-484.5903\" stroke=\"#000000\"/>\n",
       "</g>\n",
       "<!-- 121454881816 -->\n",
       "<g class=\"node\" id=\"node7\">\n",
       "<title>121454881816</title>\n",
       "<polygon fill=\"none\" points=\"0,-365.5 0,-401.5 282.335,-401.5 282.335,-365.5 0,-365.5\" stroke=\"#000000\"/>\n",
       "<text fill=\"#000000\" font-family=\"Times,serif\" font-size=\"14.00\" text-anchor=\"middle\" x=\"141.1675\" y=\"-379.3\">bidirectional_7(lstm_13): Bidirectional(LSTM)</text>\n",
       "</g>\n",
       "<!-- 121456146864&#45;&gt;121454881816 -->\n",
       "<g class=\"edge\" id=\"edge5\">\n",
       "<title>121456146864-&gt;121454881816</title>\n",
       "<path d=\"M227.7405,-438.4551C212.8124,-428.979 194.3365,-417.2508 178.2917,-407.0658\" fill=\"none\" stroke=\"#000000\"/>\n",
       "<polygon fill=\"#000000\" points=\"179.9844,-403.9947 169.666,-401.5904 176.2329,-409.9046 179.9844,-403.9947\" stroke=\"#000000\"/>\n",
       "</g>\n",
       "<!-- 121454963680 -->\n",
       "<g class=\"node\" id=\"node10\">\n",
       "<title>121454963680</title>\n",
       "<polygon fill=\"none\" points=\"300.2451,-365.5 300.2451,-401.5 406.0898,-401.5 406.0898,-365.5 300.2451,-365.5\" stroke=\"#000000\"/>\n",
       "<text fill=\"#000000\" font-family=\"Times,serif\" font-size=\"14.00\" text-anchor=\"middle\" x=\"353.1675\" y=\"-379.3\">lstm_14: LSTM</text>\n",
       "</g>\n",
       "<!-- 121456146864&#45;&gt;121454963680 -->\n",
       "<g class=\"edge\" id=\"edge8\">\n",
       "<title>121456146864-&gt;121454963680</title>\n",
       "<path d=\"M280.145,-438.4551C292.5033,-429.1545 307.7444,-417.6844 321.1001,-407.6332\" fill=\"none\" stroke=\"#000000\"/>\n",
       "<polygon fill=\"#000000\" points=\"323.2441,-410.4001 329.1296,-401.5904 319.0349,-404.807 323.2441,-410.4001\" stroke=\"#000000\"/>\n",
       "</g>\n",
       "<!-- 121496463736 -->\n",
       "<g class=\"node\" id=\"node8\">\n",
       "<title>121496463736</title>\n",
       "<polygon fill=\"none\" points=\"424.2451,-365.5 424.2451,-401.5 530.0898,-401.5 530.0898,-365.5 424.2451,-365.5\" stroke=\"#000000\"/>\n",
       "<text fill=\"#000000\" font-family=\"Times,serif\" font-size=\"14.00\" text-anchor=\"middle\" x=\"477.1675\" y=\"-379.3\">lstm_16: LSTM</text>\n",
       "</g>\n",
       "<!-- 121455044480&#45;&gt;121496463736 -->\n",
       "<g class=\"edge\" id=\"edge6\">\n",
       "<title>121455044480-&gt;121496463736</title>\n",
       "<path d=\"M550.1899,-438.4551C537.8316,-429.1545 522.5906,-417.6844 509.2349,-407.6332\" fill=\"none\" stroke=\"#000000\"/>\n",
       "<polygon fill=\"#000000\" points=\"511.3001,-404.807 501.2054,-401.5904 507.0909,-410.4001 511.3001,-404.807\" stroke=\"#000000\"/>\n",
       "</g>\n",
       "<!-- 121495475984 -->\n",
       "<g class=\"node\" id=\"node9\">\n",
       "<title>121495475984</title>\n",
       "<polygon fill=\"none\" points=\"548,-365.5 548,-401.5 830.335,-401.5 830.335,-365.5 548,-365.5\" stroke=\"#000000\"/>\n",
       "<text fill=\"#000000\" font-family=\"Times,serif\" font-size=\"14.00\" text-anchor=\"middle\" x=\"689.1675\" y=\"-379.3\">bidirectional_8(lstm_15): Bidirectional(LSTM)</text>\n",
       "</g>\n",
       "<!-- 121455044480&#45;&gt;121495475984 -->\n",
       "<g class=\"edge\" id=\"edge7\">\n",
       "<title>121455044480-&gt;121495475984</title>\n",
       "<path d=\"M602.5945,-438.4551C617.5225,-428.979 635.9984,-417.2508 652.0433,-407.0658\" fill=\"none\" stroke=\"#000000\"/>\n",
       "<polygon fill=\"#000000\" points=\"654.1021,-409.9046 660.669,-401.5904 650.3505,-403.9947 654.1021,-409.9046\" stroke=\"#000000\"/>\n",
       "</g>\n",
       "<!-- 121771740576 -->\n",
       "<g class=\"node\" id=\"node11\">\n",
       "<title>121771740576</title>\n",
       "<polygon fill=\"none\" points=\"227.8481,-292.5 227.8481,-328.5 400.4868,-328.5 400.4868,-292.5 227.8481,-292.5\" stroke=\"#000000\"/>\n",
       "<text fill=\"#000000\" font-family=\"Times,serif\" font-size=\"14.00\" text-anchor=\"middle\" x=\"314.1675\" y=\"-306.3\">concatenate_3: Concatenate</text>\n",
       "</g>\n",
       "<!-- 121454881816&#45;&gt;121771740576 -->\n",
       "<g class=\"edge\" id=\"edge9\">\n",
       "<title>121454881816-&gt;121771740576</title>\n",
       "<path d=\"M183.9315,-365.4551C207.5322,-355.4964 237.0275,-343.0504 261.9777,-332.5223\" fill=\"none\" stroke=\"#000000\"/>\n",
       "<polygon fill=\"#000000\" points=\"263.4432,-335.7028 271.2958,-328.5904 260.7217,-329.2535 263.4432,-335.7028\" stroke=\"#000000\"/>\n",
       "</g>\n",
       "<!-- 121496463736&#45;&gt;121771740576 -->\n",
       "<g class=\"edge\" id=\"edge10\">\n",
       "<title>121496463736-&gt;121771740576</title>\n",
       "<path d=\"M436.8753,-365.4551C414.8348,-355.5841 387.3378,-343.2695 363.9629,-332.801\" fill=\"none\" stroke=\"#000000\"/>\n",
       "<polygon fill=\"#000000\" points=\"365.1182,-329.4835 354.561,-328.5904 362.257,-335.8721 365.1182,-329.4835\" stroke=\"#000000\"/>\n",
       "</g>\n",
       "<!-- 121773229672 -->\n",
       "<g class=\"node\" id=\"node12\">\n",
       "<title>121773229672</title>\n",
       "<polygon fill=\"none\" points=\"428.8481,-292.5 428.8481,-328.5 601.4868,-328.5 601.4868,-292.5 428.8481,-292.5\" stroke=\"#000000\"/>\n",
       "<text fill=\"#000000\" font-family=\"Times,serif\" font-size=\"14.00\" text-anchor=\"middle\" x=\"515.1675\" y=\"-306.3\">concatenate_4: Concatenate</text>\n",
       "</g>\n",
       "<!-- 121495475984&#45;&gt;121773229672 -->\n",
       "<g class=\"edge\" id=\"edge11\">\n",
       "<title>121495475984-&gt;121773229672</title>\n",
       "<path d=\"M646.1562,-365.4551C622.4192,-355.4964 592.7534,-343.0504 567.6589,-332.5223\" fill=\"none\" stroke=\"#000000\"/>\n",
       "<polygon fill=\"#000000\" points=\"568.8624,-329.2317 558.287,-328.5904 566.1542,-335.6866 568.8624,-329.2317\" stroke=\"#000000\"/>\n",
       "</g>\n",
       "<!-- 121454963680&#45;&gt;121773229672 -->\n",
       "<g class=\"edge\" id=\"edge12\">\n",
       "<title>121454963680-&gt;121773229672</title>\n",
       "<path d=\"M393.2124,-365.4551C415.1178,-355.5841 442.4461,-343.2695 465.6776,-332.801\" fill=\"none\" stroke=\"#000000\"/>\n",
       "<polygon fill=\"#000000\" points=\"467.3426,-335.8897 475.0218,-328.5904 464.4667,-329.5078 467.3426,-335.8897\" stroke=\"#000000\"/>\n",
       "</g>\n",
       "<!-- 121771864528 -->\n",
       "<g class=\"node\" id=\"node13\">\n",
       "<title>121771864528</title>\n",
       "<polygon fill=\"none\" points=\"261.2451,-219.5 261.2451,-255.5 367.0898,-255.5 367.0898,-219.5 261.2451,-219.5\" stroke=\"#000000\"/>\n",
       "<text fill=\"#000000\" font-family=\"Times,serif\" font-size=\"14.00\" text-anchor=\"middle\" x=\"314.1675\" y=\"-233.3\">lstm_17: LSTM</text>\n",
       "</g>\n",
       "<!-- 121771740576&#45;&gt;121771864528 -->\n",
       "<g class=\"edge\" id=\"edge13\">\n",
       "<title>121771740576-&gt;121771864528</title>\n",
       "<path d=\"M314.1675,-292.4551C314.1675,-284.3828 314.1675,-274.6764 314.1675,-265.6817\" fill=\"none\" stroke=\"#000000\"/>\n",
       "<polygon fill=\"#000000\" points=\"317.6676,-265.5903 314.1675,-255.5904 310.6676,-265.5904 317.6676,-265.5903\" stroke=\"#000000\"/>\n",
       "</g>\n",
       "<!-- 121774289360 -->\n",
       "<g class=\"node\" id=\"node14\">\n",
       "<title>121774289360</title>\n",
       "<polygon fill=\"none\" points=\"462.2451,-219.5 462.2451,-255.5 568.0898,-255.5 568.0898,-219.5 462.2451,-219.5\" stroke=\"#000000\"/>\n",
       "<text fill=\"#000000\" font-family=\"Times,serif\" font-size=\"14.00\" text-anchor=\"middle\" x=\"515.1675\" y=\"-233.3\">lstm_18: LSTM</text>\n",
       "</g>\n",
       "<!-- 121773229672&#45;&gt;121774289360 -->\n",
       "<g class=\"edge\" id=\"edge14\">\n",
       "<title>121773229672-&gt;121774289360</title>\n",
       "<path d=\"M515.1675,-292.4551C515.1675,-284.3828 515.1675,-274.6764 515.1675,-265.6817\" fill=\"none\" stroke=\"#000000\"/>\n",
       "<polygon fill=\"#000000\" points=\"518.6676,-265.5903 515.1675,-255.5904 511.6676,-265.5904 518.6676,-265.5903\" stroke=\"#000000\"/>\n",
       "</g>\n",
       "<!-- 121775554176 -->\n",
       "<g class=\"node\" id=\"node15\">\n",
       "<title>121775554176</title>\n",
       "<polygon fill=\"none\" points=\"250.3657,-146.5 250.3657,-182.5 377.9692,-182.5 377.9692,-146.5 250.3657,-146.5\" stroke=\"#000000\"/>\n",
       "<text fill=\"#000000\" font-family=\"Times,serif\" font-size=\"14.00\" text-anchor=\"middle\" x=\"314.1675\" y=\"-160.3\">dropout_7: Dropout</text>\n",
       "</g>\n",
       "<!-- 121771864528&#45;&gt;121775554176 -->\n",
       "<g class=\"edge\" id=\"edge15\">\n",
       "<title>121771864528-&gt;121775554176</title>\n",
       "<path d=\"M314.1675,-219.4551C314.1675,-211.3828 314.1675,-201.6764 314.1675,-192.6817\" fill=\"none\" stroke=\"#000000\"/>\n",
       "<polygon fill=\"#000000\" points=\"317.6676,-192.5903 314.1675,-182.5904 310.6676,-192.5904 317.6676,-192.5903\" stroke=\"#000000\"/>\n",
       "</g>\n",
       "<!-- 121777822968 -->\n",
       "<g class=\"node\" id=\"node16\">\n",
       "<title>121777822968</title>\n",
       "<polygon fill=\"none\" points=\"451.3657,-146.5 451.3657,-182.5 578.9692,-182.5 578.9692,-146.5 451.3657,-146.5\" stroke=\"#000000\"/>\n",
       "<text fill=\"#000000\" font-family=\"Times,serif\" font-size=\"14.00\" text-anchor=\"middle\" x=\"515.1675\" y=\"-160.3\">dropout_8: Dropout</text>\n",
       "</g>\n",
       "<!-- 121774289360&#45;&gt;121777822968 -->\n",
       "<g class=\"edge\" id=\"edge16\">\n",
       "<title>121774289360-&gt;121777822968</title>\n",
       "<path d=\"M515.1675,-219.4551C515.1675,-211.3828 515.1675,-201.6764 515.1675,-192.6817\" fill=\"none\" stroke=\"#000000\"/>\n",
       "<polygon fill=\"#000000\" points=\"518.6676,-192.5903 515.1675,-182.5904 511.6676,-192.5904 518.6676,-192.5903\" stroke=\"#000000\"/>\n",
       "</g>\n",
       "<!-- 121776528520 -->\n",
       "<g class=\"node\" id=\"node17\">\n",
       "<title>121776528520</title>\n",
       "<polygon fill=\"none\" points=\"261.2451,-73.5 261.2451,-109.5 367.0898,-109.5 367.0898,-73.5 261.2451,-73.5\" stroke=\"#000000\"/>\n",
       "<text fill=\"#000000\" font-family=\"Times,serif\" font-size=\"14.00\" text-anchor=\"middle\" x=\"314.1675\" y=\"-87.3\">lstm_19: LSTM</text>\n",
       "</g>\n",
       "<!-- 121775554176&#45;&gt;121776528520 -->\n",
       "<g class=\"edge\" id=\"edge17\">\n",
       "<title>121775554176-&gt;121776528520</title>\n",
       "<path d=\"M314.1675,-146.4551C314.1675,-138.3828 314.1675,-128.6764 314.1675,-119.6817\" fill=\"none\" stroke=\"#000000\"/>\n",
       "<polygon fill=\"#000000\" points=\"317.6676,-119.5903 314.1675,-109.5904 310.6676,-119.5904 317.6676,-119.5903\" stroke=\"#000000\"/>\n",
       "</g>\n",
       "<!-- 121779357064 -->\n",
       "<g class=\"node\" id=\"node18\">\n",
       "<title>121779357064</title>\n",
       "<polygon fill=\"none\" points=\"462.2451,-73.5 462.2451,-109.5 568.0898,-109.5 568.0898,-73.5 462.2451,-73.5\" stroke=\"#000000\"/>\n",
       "<text fill=\"#000000\" font-family=\"Times,serif\" font-size=\"14.00\" text-anchor=\"middle\" x=\"515.1675\" y=\"-87.3\">lstm_20: LSTM</text>\n",
       "</g>\n",
       "<!-- 121777822968&#45;&gt;121779357064 -->\n",
       "<g class=\"edge\" id=\"edge18\">\n",
       "<title>121777822968-&gt;121779357064</title>\n",
       "<path d=\"M515.1675,-146.4551C515.1675,-138.3828 515.1675,-128.6764 515.1675,-119.6817\" fill=\"none\" stroke=\"#000000\"/>\n",
       "<polygon fill=\"#000000\" points=\"518.6676,-119.5903 515.1675,-109.5904 511.6676,-119.5904 518.6676,-119.5903\" stroke=\"#000000\"/>\n",
       "</g>\n",
       "<!-- 121781595608 -->\n",
       "<g class=\"node\" id=\"node19\">\n",
       "<title>121781595608</title>\n",
       "<polygon fill=\"none\" points=\"251.5381,-.5 251.5381,-36.5 376.7969,-36.5 376.7969,-.5 251.5381,-.5\" stroke=\"#000000\"/>\n",
       "<text fill=\"#000000\" font-family=\"Times,serif\" font-size=\"14.00\" text-anchor=\"middle\" x=\"314.1675\" y=\"-14.3\">note_output: Dense</text>\n",
       "</g>\n",
       "<!-- 121776528520&#45;&gt;121781595608 -->\n",
       "<g class=\"edge\" id=\"edge19\">\n",
       "<title>121776528520-&gt;121781595608</title>\n",
       "<path d=\"M314.1675,-73.4551C314.1675,-65.3828 314.1675,-55.6764 314.1675,-46.6817\" fill=\"none\" stroke=\"#000000\"/>\n",
       "<polygon fill=\"#000000\" points=\"317.6676,-46.5903 314.1675,-36.5904 310.6676,-46.5904 317.6676,-46.5903\" stroke=\"#000000\"/>\n",
       "</g>\n",
       "<!-- 121782987744 -->\n",
       "<g class=\"node\" id=\"node20\">\n",
       "<title>121782987744</title>\n",
       "<polygon fill=\"none\" points=\"447.0933,-.5 447.0933,-36.5 583.2417,-36.5 583.2417,-.5 447.0933,-.5\" stroke=\"#000000\"/>\n",
       "<text fill=\"#000000\" font-family=\"Times,serif\" font-size=\"14.00\" text-anchor=\"middle\" x=\"515.1675\" y=\"-14.3\">length_output: Dense</text>\n",
       "</g>\n",
       "<!-- 121779357064&#45;&gt;121782987744 -->\n",
       "<g class=\"edge\" id=\"edge20\">\n",
       "<title>121779357064-&gt;121782987744</title>\n",
       "<path d=\"M515.1675,-73.4551C515.1675,-65.3828 515.1675,-55.6764 515.1675,-46.6817\" fill=\"none\" stroke=\"#000000\"/>\n",
       "<polygon fill=\"#000000\" points=\"518.6676,-46.5903 515.1675,-36.5904 511.6676,-46.5904 518.6676,-46.5903\" stroke=\"#000000\"/>\n",
       "</g>\n",
       "</g>\n",
       "</svg>"
      ],
      "text/plain": [
       "<IPython.core.display.SVG object>"
      ]
     },
     "execution_count": 40,
     "metadata": {},
     "output_type": "execute_result"
    }
   ],
   "source": [
    "SVG(model_to_dot(model).create(prog='dot', format='svg'))"
   ]
  },
  {
   "cell_type": "code",
   "execution_count": 41,
   "metadata": {
    "collapsed": true
   },
   "outputs": [],
   "source": [
    "# learning rate schedule\n",
    "def step_decay(epoch):\n",
    "\tinitial_lrate = 0.1\n",
    "\tdrop = 0.6\n",
    "\tepochs_drop = 25\n",
    "\tlrate = initial_lrate * math.pow(drop, math.floor((1+epoch)/epochs_drop))\n",
    "\treturn lrate"
   ]
  },
  {
   "cell_type": "code",
   "execution_count": 42,
   "metadata": {
    "collapsed": true
   },
   "outputs": [],
   "source": [
    "def listen_callback(epoch, logs):\n",
    "    if epoch % 20 == 0 and epoch > -1: \n",
    "    # if epoch < -2:\n",
    "        print('----- Generating melody after Epoch: %d' % epoch)\n",
    "        \n",
    "        start_index = random.randint(0, 7000)\n",
    "        for diversity in [0.5]:\n",
    "            print('----- diversity:', diversity)\n",
    "\n",
    "            current_note_phrase = notes_corpus[start_index: start_index + n_time_steps]\n",
    "            current_length_phrase = length_corpus[start_index: start_index + n_time_steps]\n",
    "\n",
    "            phrases = {'note_phrase': current_note_phrase, 'length_phrase': current_length_phrase}\n",
    "\n",
    "            generated_notes = []\n",
    "            generated_lengths = []\n",
    "            generated_notes.extend(current_note_phrase)\n",
    "            generated_lengths.extend(current_length_phrase)\n",
    "\n",
    "            # model, phrases,categorized_variables, lookup_indicies, n_time_steps, diversity, n_to_generate\n",
    "            for step in range(70):\n",
    "                encoded_prediction = make_encoded_prediction(\n",
    "                    model=model,\n",
    "                    phrases=phrases,\n",
    "                    categorized_variables=categorized_variables,\n",
    "                    lookup_indicies=lookup_indicies,\n",
    "                    n_time_steps=n_time_steps\n",
    "                )\n",
    "\n",
    "                predictions = decode_predictions(\n",
    "                    encoded_prediction=encoded_prediction,\n",
    "                    lookup_indicies=lookup_indicies,\n",
    "                    temperature=diversity\n",
    "                )\n",
    "\n",
    "                generated_notes.append(predictions['note_prediction']) \n",
    "                generated_lengths.append(predictions['length_prediction']) \n",
    "\n",
    "                phrases['note_phrase'] = np.append(phrases['note_phrase'][1:], predictions['note_prediction'])\n",
    "                phrases['length_phrase'] = np.append(phrases['length_phrase'][1:], predictions['length_prediction'])\n",
    "\n",
    "            play_generated_phrase(\n",
    "                generated_notes=generated_notes[10:],\n",
    "                generated_lengths=generated_lengths[10:],\n",
    "                player=player)"
   ]
  },
  {
   "cell_type": "code",
   "execution_count": 43,
   "metadata": {
    "collapsed": true
   },
   "outputs": [],
   "source": [
    "lrate = LearningRateScheduler(step_decay)"
   ]
  },
  {
   "cell_type": "code",
   "execution_count": 44,
   "metadata": {
    "collapsed": true
   },
   "outputs": [],
   "source": [
    "tensorboard = TensorBoard(log_dir=\"./logs/{}\".format(datetime.datetime.now()), histogram_freq=0, write_graph=True)"
   ]
  },
  {
   "cell_type": "code",
   "execution_count": 45,
   "metadata": {
    "collapsed": true
   },
   "outputs": [],
   "source": [
    "listen_callback = LambdaCallback(on_epoch_end=listen_callback)"
   ]
  },
  {
   "cell_type": "code",
   "execution_count": null,
   "metadata": {
    "scrolled": false
   },
   "outputs": [
    {
     "name": "stdout",
     "output_type": "stream",
     "text": [
      "          **********************************\n",
      "            TRAINING\n",
      "          **********************************\n",
      "Epoch 1/300\n",
      " 8960/32410 [=======>......................] - ETA: 54s - loss: 6.6040 - note_output_loss: 4.3553 - length_output_loss: 4.4975"
     ]
    }
   ],
   "source": [
    "logger('TRAINING')\n",
    "model.fit([note_x, length_x], [note_y, length_y],\n",
    "          batch_size=batch_size,\n",
    "          epochs=300,\n",
    "          callbacks=[\n",
    "              listen_callback,\n",
    "#               tensorboard,\n",
    "            ]\n",
    "          )"
   ]
  },
  {
   "cell_type": "code",
   "execution_count": null,
   "metadata": {},
   "outputs": [],
   "source": [
    "save_model(model, 'model_2')"
   ]
  },
  {
   "cell_type": "code",
   "execution_count": null,
   "metadata": {
    "collapsed": true
   },
   "outputs": [],
   "source": []
  }
 ],
 "metadata": {
  "kernelspec": {
   "display_name": "Python 3",
   "language": "python",
   "name": "python3"
  },
  "language_info": {
   "codemirror_mode": {
    "name": "ipython",
    "version": 3
   },
   "file_extension": ".py",
   "mimetype": "text/x-python",
   "name": "python",
   "nbconvert_exporter": "python",
   "pygments_lexer": "ipython3",
   "version": "3.6.4"
  }
 },
 "nbformat": 4,
 "nbformat_minor": 1
}
