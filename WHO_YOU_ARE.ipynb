{
 "cells": [
  {
   "cell_type": "markdown",
   "metadata": {},
   "source": [
    "## Imports"
   ]
  },
  {
   "cell_type": "code",
   "execution_count": 5,
   "metadata": {},
   "outputs": [],
   "source": [
    "import numpy as np\n",
    "import time\n",
    "import datetime\n",
    "import random\n",
    "\n",
    "from keras.callbacks import LambdaCallback\n",
    "from keras.utils import plot_model\n",
    "from keras.callbacks import TensorBoard\n",
    "\n",
    "from pandas import read_csv\n",
    "from Audio.Components.MidiPlayer import MidiPlayer\n",
    "\n",
    "from keras.utils.vis_utils import model_to_dot\n",
    "from keras.callbacks import LearningRateScheduler\n",
    "from matplotlib import pyplot\n",
    "from IPython.display import SVG\n",
    "import pydot\n",
    "import graphviz\n",
    "\n",
    "from NN.networks.simple_model import create_model\n",
    "\n",
    "from Audio.Components.helpers.prepare_arrays import get_categorized_variables\n",
    "from Audio.Components.helpers.save_model import save_model\n",
    "from Audio.Components.helpers.make_encoded_prediction import make_encoded_prediction\n",
    "from Audio.Components.helpers.create_categorical_indicies import create_category_indicies, create_lookup_indicies\n",
    "from Audio.Components.helpers.generate_phrases import generate_phrases\n",
    "from Audio.Components.helpers.decode_predictions import decode_predictions\n",
    "from Audio.Components.helpers.play_generated_phrase import play_generated_phrase\n",
    "from Audio.Components.helpers.vectorize_phrases import vectorize_phrases\n",
    "from Audio.Components.helpers.logger import logger\n",
    "from Helpers.map_midi_to_note_number import map_midi_to_note_number\n",
    "from Helpers.map_midi_to_interval import map_midi_to_interval\n",
    "import constants"
   ]
  },
  {
   "cell_type": "markdown",
   "metadata": {
    "collapsed": true
   },
   "source": [
    "## Constants"
   ]
  },
  {
   "cell_type": "code",
   "execution_count": 6,
   "metadata": {},
   "outputs": [
    {
     "name": "stdout",
     "output_type": "stream",
     "text": [
      "['IAC Driver Bus 1', 'IAC Driver LocalMidi']\n"
     ]
    }
   ],
   "source": [
    "player = MidiPlayer()\n",
    "dropout = 0.5\n",
    "n_time_steps = constants.n_time_steps\n",
    "semi_redundancy_step = constants.semi_redundancy_step\n",
    "lstm_size = 10\n",
    "lr = constants.lr\n",
    "epochs = constants.epochs\n",
    "batch_size = constants.batch_size\n",
    "n_to_generate = constants.n_to_generate"
   ]
  },
  {
   "cell_type": "code",
   "execution_count": 7,
   "metadata": {},
   "outputs": [
    {
     "name": "stdout",
     "output_type": "stream",
     "text": [
      "          **********************************\n",
      "            PREPROCESSING\n",
      "          **********************************\n",
      "corpus length: 46637\n"
     ]
    }
   ],
   "source": [
    "logger('PREPROCESSING')\n",
    "corpus = read_csv('Audio/data/input.csv', header=1)\n",
    "print('corpus length:', len(corpus))\n",
    "notes_corpus = corpus.values[:, 0]\n",
    "note_name_corpus = corpus.values[:, 1]\n",
    "interval_corpus = corpus.values[:, 2]\n",
    "length_corpus = corpus.values[:, 3]\n"
   ]
  },
  {
   "cell_type": "code",
   "execution_count": 8,
   "metadata": {
    "collapsed": true
   },
   "outputs": [],
   "source": [
    "categorized_variables = get_categorized_variables()"
   ]
  },
  {
   "cell_type": "code",
   "execution_count": 9,
   "metadata": {
    "collapsed": true
   },
   "outputs": [],
   "source": [
    "lookup_indicies = create_lookup_indicies(categorized_variables)\n",
    "\n",
    "note_phrases, next_note = generate_phrases(notes_corpus, n_time_steps, semi_redundancy_step)\n",
    "note_name_phrases, next_note_name = generate_phrases(note_name_corpus, n_time_steps, semi_redundancy_step)\n",
    "interval_phrases, next_interval = generate_phrases(interval_corpus, n_time_steps, semi_redundancy_step)\n",
    "length_phrases, next_length = generate_phrases(length_corpus, n_time_steps, semi_redundancy_step)"
   ]
  },
  {
   "cell_type": "code",
   "execution_count": 10,
   "metadata": {
    "scrolled": true
   },
   "outputs": [
    {
     "name": "stdout",
     "output_type": "stream",
     "text": [
      "(46607, 30, 128) note_x.shape\n",
      "(46607, 30, 141) length_x.shape\n",
      "(46607, 30, 49) interval_x.shape\n",
      "(46607, 30, 13) note_name_x.shape\n",
      "(46607, 128) note_y.shape\n",
      "(46607, 141) length_y.shape\n",
      "(46607, 49) interval_y.shape\n",
      "(46607, 13) note_name_y.shape\n"
     ]
    }
   ],
   "source": [
    "note_x, note_y = vectorize_phrases(\n",
    "    phrases=note_phrases,\n",
    "    n_categories=len(categorized_variables['note_categories']),\n",
    "    n_time_steps=n_time_steps,\n",
    "    lookup_index=lookup_indicies['note_index'],\n",
    "    next_lookup_index=next_note\n",
    "    )\n",
    "\n",
    "interval_x, interval_y = vectorize_phrases(\n",
    "    phrases=interval_phrases,\n",
    "    n_categories=len(categorized_variables['interval_categories']),\n",
    "    n_time_steps=n_time_steps,\n",
    "    lookup_index=lookup_indicies['interval_index'],\n",
    "    next_lookup_index=next_interval\n",
    ")\n",
    "\n",
    "note_name_x, note_name_y = vectorize_phrases(\n",
    "    phrases=note_name_phrases,\n",
    "    n_categories=len(categorized_variables['note_name_categories']),\n",
    "    n_time_steps=n_time_steps,\n",
    "    lookup_index=lookup_indicies['note_name_index'],\n",
    "    next_lookup_index=next_note_name\n",
    ")\n",
    "\n",
    "length_x, length_y = vectorize_phrases(\n",
    "    phrases=length_phrases,\n",
    "    n_categories=len(categorized_variables['length_categories']),\n",
    "    n_time_steps=n_time_steps,\n",
    "    lookup_index=lookup_indicies['length_index'],\n",
    "    next_lookup_index=next_length\n",
    ")\n",
    "\n",
    "print(note_x.shape, 'note_x.shape')\n",
    "print(length_x.shape, 'length_x.shape')\n",
    "print(interval_x.shape, 'interval_x.shape')\n",
    "print(note_name_x.shape, 'note_name_x.shape')\n",
    "print(note_y.shape, 'note_y.shape')\n",
    "print(length_y.shape, 'length_y.shape')\n",
    "print(interval_y.shape, 'interval_y.shape')\n",
    "print(note_name_y.shape, 'note_name_y.shape')"
   ]
  },
  {
   "cell_type": "code",
   "execution_count": 11,
   "metadata": {
    "collapsed": true
   },
   "outputs": [],
   "source": [
    "model = create_model(\n",
    "    categorized_variables=categorized_variables,\n",
    "    lstm_size=lstm_size,\n",
    "    lr=0.001,\n",
    "    n_time_steps=n_time_steps,\n",
    "    dropout=dropout,\n",
    ")"
   ]
  },
  {
   "cell_type": "code",
   "execution_count": 12,
   "metadata": {},
   "outputs": [
    {
     "name": "stdout",
     "output_type": "stream",
     "text": [
      "__________________________________________________________________________________________________\n",
      "Layer (type)                    Output Shape         Param #     Connected to                     \n",
      "==================================================================================================\n",
      "note_input (InputLayer)         (None, 30, 128)      0                                            \n",
      "__________________________________________________________________________________________________\n",
      "note_name_input (InputLayer)    (None, 30, 13)       0                                            \n",
      "__________________________________________________________________________________________________\n",
      "interval_input (InputLayer)     (None, 30, 49)       0                                            \n",
      "__________________________________________________________________________________________________\n",
      "length_input (InputLayer)       (None, 30, 141)      0                                            \n",
      "__________________________________________________________________________________________________\n",
      "concatenate_1 (Concatenate)     (None, 30, 331)      0           note_input[0][0]                 \n",
      "                                                                 note_name_input[0][0]            \n",
      "                                                                 interval_input[0][0]             \n",
      "                                                                 length_input[0][0]               \n",
      "__________________________________________________________________________________________________\n",
      "bidirectional_1 (Bidirectional) (None, 30, 20)       27360       concatenate_1[0][0]              \n",
      "__________________________________________________________________________________________________\n",
      "dropout_1 (Dropout)             (None, 30, 20)       0           bidirectional_1[0][0]            \n",
      "__________________________________________________________________________________________________\n",
      "bidirectional_2 (Bidirectional) (None, 20)           2480        dropout_1[0][0]                  \n",
      "__________________________________________________________________________________________________\n",
      "note_output (Dense)             (None, 128)          2688        bidirectional_2[0][0]            \n",
      "__________________________________________________________________________________________________\n",
      "length_output (Dense)           (None, 141)          2961        bidirectional_2[0][0]            \n",
      "==================================================================================================\n",
      "Total params: 35,489\n",
      "Trainable params: 35,489\n",
      "Non-trainable params: 0\n",
      "__________________________________________________________________________________________________\n"
     ]
    }
   ],
   "source": [
    "model.summary()"
   ]
  },
  {
   "cell_type": "code",
   "execution_count": 13,
   "metadata": {
    "scrolled": false
   },
   "outputs": [
    {
     "data": {
      "image/svg+xml": [
       "<svg height=\"410pt\" viewBox=\"0.00 0.00 709.91 410.00\" width=\"710pt\" xmlns=\"http://www.w3.org/2000/svg\" xmlns:xlink=\"http://www.w3.org/1999/xlink\">\n",
       "<g class=\"graph\" id=\"graph0\" transform=\"scale(1 1) rotate(0) translate(4 406)\">\n",
       "<title>G</title>\n",
       "<polygon fill=\"#ffffff\" points=\"-4,4 -4,-406 705.9106,-406 705.9106,4 -4,4\" stroke=\"transparent\"/>\n",
       "<!-- 103523150312 -->\n",
       "<g class=\"node\" id=\"node1\">\n",
       "<title>103523150312</title>\n",
       "<polygon fill=\"none\" points=\"0,-365.5 0,-401.5 145.4658,-401.5 145.4658,-365.5 0,-365.5\" stroke=\"#000000\"/>\n",
       "<text fill=\"#000000\" font-family=\"Times,serif\" font-size=\"14.00\" text-anchor=\"middle\" x=\"72.7329\" y=\"-379.3\">note_input: InputLayer</text>\n",
       "</g>\n",
       "<!-- 103523151656 -->\n",
       "<g class=\"node\" id=\"node5\">\n",
       "<title>103523151656</title>\n",
       "<polygon fill=\"none\" points=\"263.4136,-292.5 263.4136,-328.5 436.0522,-328.5 436.0522,-292.5 263.4136,-292.5\" stroke=\"#000000\"/>\n",
       "<text fill=\"#000000\" font-family=\"Times,serif\" font-size=\"14.00\" text-anchor=\"middle\" x=\"349.7329\" y=\"-306.3\">concatenate_1: Concatenate</text>\n",
       "</g>\n",
       "<!-- 103523150312&#45;&gt;103523151656 -->\n",
       "<g class=\"edge\" id=\"edge1\">\n",
       "<title>103523150312-&gt;103523151656</title>\n",
       "<path d=\"M141.2048,-365.4551C180.6579,-355.0577 230.399,-341.949 271.4047,-331.1424\" fill=\"none\" stroke=\"#000000\"/>\n",
       "<polygon fill=\"#000000\" points=\"272.3108,-334.5232 281.0887,-328.5904 270.5269,-327.7544 272.3108,-334.5232\" stroke=\"#000000\"/>\n",
       "</g>\n",
       "<!-- 103523150032 -->\n",
       "<g class=\"node\" id=\"node2\">\n",
       "<title>103523150032</title>\n",
       "<polygon fill=\"none\" points=\"163.3413,-365.5 163.3413,-401.5 346.1245,-401.5 346.1245,-365.5 163.3413,-365.5\" stroke=\"#000000\"/>\n",
       "<text fill=\"#000000\" font-family=\"Times,serif\" font-size=\"14.00\" text-anchor=\"middle\" x=\"254.7329\" y=\"-379.3\">note_name_input: InputLayer</text>\n",
       "</g>\n",
       "<!-- 103523150032&#45;&gt;103523151656 -->\n",
       "<g class=\"edge\" id=\"edge2\">\n",
       "<title>103523150032-&gt;103523151656</title>\n",
       "<path d=\"M278.2161,-365.4551C290.2054,-356.2422 304.965,-344.9006 317.956,-334.918\" fill=\"none\" stroke=\"#000000\"/>\n",
       "<polygon fill=\"#000000\" points=\"320.3939,-337.4587 326.1907,-328.5904 316.1287,-331.9082 320.3939,-337.4587\" stroke=\"#000000\"/>\n",
       "</g>\n",
       "<!-- 103523150088 -->\n",
       "<g class=\"node\" id=\"node3\">\n",
       "<title>103523150088</title>\n",
       "<polygon fill=\"none\" points=\"363.6724,-365.5 363.6724,-401.5 527.7935,-401.5 527.7935,-365.5 363.6724,-365.5\" stroke=\"#000000\"/>\n",
       "<text fill=\"#000000\" font-family=\"Times,serif\" font-size=\"14.00\" text-anchor=\"middle\" x=\"445.7329\" y=\"-379.3\">interval_input: InputLayer</text>\n",
       "</g>\n",
       "<!-- 103523150088&#45;&gt;103523151656 -->\n",
       "<g class=\"edge\" id=\"edge3\">\n",
       "<title>103523150088-&gt;103523151656</title>\n",
       "<path d=\"M422.0026,-365.4551C409.887,-356.2422 394.9721,-344.9006 381.8443,-334.918\" fill=\"none\" stroke=\"#000000\"/>\n",
       "<polygon fill=\"#000000\" points=\"383.6016,-331.8573 373.523,-328.5904 379.3645,-337.4293 383.6016,-331.8573\" stroke=\"#000000\"/>\n",
       "</g>\n",
       "<!-- 103522712600 -->\n",
       "<g class=\"node\" id=\"node4\">\n",
       "<title>103522712600</title>\n",
       "<polygon fill=\"none\" points=\"545.5552,-365.5 545.5552,-401.5 701.9106,-401.5 701.9106,-365.5 545.5552,-365.5\" stroke=\"#000000\"/>\n",
       "<text fill=\"#000000\" font-family=\"Times,serif\" font-size=\"14.00\" text-anchor=\"middle\" x=\"623.7329\" y=\"-379.3\">length_input: InputLayer</text>\n",
       "</g>\n",
       "<!-- 103522712600&#45;&gt;103523151656 -->\n",
       "<g class=\"edge\" id=\"edge4\">\n",
       "<title>103522712600-&gt;103523151656</title>\n",
       "<path d=\"M556.0026,-365.4551C517.0592,-355.0796 467.982,-342.0043 427.4696,-331.2109\" fill=\"none\" stroke=\"#000000\"/>\n",
       "<polygon fill=\"#000000\" points=\"428.1977,-327.7828 417.6337,-328.5904 426.3956,-334.5469 428.1977,-327.7828\" stroke=\"#000000\"/>\n",
       "</g>\n",
       "<!-- 103523268312 -->\n",
       "<g class=\"node\" id=\"node6\">\n",
       "<title>103523268312</title>\n",
       "<polygon fill=\"none\" points=\"212.0654,-219.5 212.0654,-255.5 487.4004,-255.5 487.4004,-219.5 212.0654,-219.5\" stroke=\"#000000\"/>\n",
       "<text fill=\"#000000\" font-family=\"Times,serif\" font-size=\"14.00\" text-anchor=\"middle\" x=\"349.7329\" y=\"-233.3\">bidirectional_1(lstm_1): Bidirectional(LSTM)</text>\n",
       "</g>\n",
       "<!-- 103523151656&#45;&gt;103523268312 -->\n",
       "<g class=\"edge\" id=\"edge5\">\n",
       "<title>103523151656-&gt;103523268312</title>\n",
       "<path d=\"M349.7329,-292.4551C349.7329,-284.3828 349.7329,-274.6764 349.7329,-265.6817\" fill=\"none\" stroke=\"#000000\"/>\n",
       "<polygon fill=\"#000000\" points=\"353.233,-265.5903 349.7329,-255.5904 346.233,-265.5904 353.233,-265.5903\" stroke=\"#000000\"/>\n",
       "</g>\n",
       "<!-- 103523268928 -->\n",
       "<g class=\"node\" id=\"node7\">\n",
       "<title>103523268928</title>\n",
       "<polygon fill=\"none\" points=\"285.9312,-146.5 285.9312,-182.5 413.5347,-182.5 413.5347,-146.5 285.9312,-146.5\" stroke=\"#000000\"/>\n",
       "<text fill=\"#000000\" font-family=\"Times,serif\" font-size=\"14.00\" text-anchor=\"middle\" x=\"349.7329\" y=\"-160.3\">dropout_1: Dropout</text>\n",
       "</g>\n",
       "<!-- 103523268312&#45;&gt;103523268928 -->\n",
       "<g class=\"edge\" id=\"edge6\">\n",
       "<title>103523268312-&gt;103523268928</title>\n",
       "<path d=\"M349.7329,-219.4551C349.7329,-211.3828 349.7329,-201.6764 349.7329,-192.6817\" fill=\"none\" stroke=\"#000000\"/>\n",
       "<polygon fill=\"#000000\" points=\"353.233,-192.5903 349.7329,-182.5904 346.233,-192.5904 353.233,-192.5903\" stroke=\"#000000\"/>\n",
       "</g>\n",
       "<!-- 103538765104 -->\n",
       "<g class=\"node\" id=\"node8\">\n",
       "<title>103538765104</title>\n",
       "<polygon fill=\"none\" points=\"212.0654,-73.5 212.0654,-109.5 487.4004,-109.5 487.4004,-73.5 212.0654,-73.5\" stroke=\"#000000\"/>\n",
       "<text fill=\"#000000\" font-family=\"Times,serif\" font-size=\"14.00\" text-anchor=\"middle\" x=\"349.7329\" y=\"-87.3\">bidirectional_2(lstm_2): Bidirectional(LSTM)</text>\n",
       "</g>\n",
       "<!-- 103523268928&#45;&gt;103538765104 -->\n",
       "<g class=\"edge\" id=\"edge7\">\n",
       "<title>103523268928-&gt;103538765104</title>\n",
       "<path d=\"M349.7329,-146.4551C349.7329,-138.3828 349.7329,-128.6764 349.7329,-119.6817\" fill=\"none\" stroke=\"#000000\"/>\n",
       "<polygon fill=\"#000000\" points=\"353.233,-119.5903 349.7329,-109.5904 346.233,-119.5904 353.233,-119.5903\" stroke=\"#000000\"/>\n",
       "</g>\n",
       "<!-- 103538862624 -->\n",
       "<g class=\"node\" id=\"node9\">\n",
       "<title>103538862624</title>\n",
       "<polygon fill=\"none\" points=\"213.1035,-.5 213.1035,-36.5 338.3623,-36.5 338.3623,-.5 213.1035,-.5\" stroke=\"#000000\"/>\n",
       "<text fill=\"#000000\" font-family=\"Times,serif\" font-size=\"14.00\" text-anchor=\"middle\" x=\"275.7329\" y=\"-14.3\">note_output: Dense</text>\n",
       "</g>\n",
       "<!-- 103538765104&#45;&gt;103538862624 -->\n",
       "<g class=\"edge\" id=\"edge8\">\n",
       "<title>103538765104-&gt;103538862624</title>\n",
       "<path d=\"M331.4408,-73.4551C322.3685,-64.5054 311.26,-53.547 301.3561,-43.7769\" fill=\"none\" stroke=\"#000000\"/>\n",
       "<polygon fill=\"#000000\" points=\"303.6481,-41.1215 294.0711,-36.5904 298.7321,-46.1049 303.6481,-41.1215\" stroke=\"#000000\"/>\n",
       "</g>\n",
       "<!-- 4403519048 -->\n",
       "<g class=\"node\" id=\"node10\">\n",
       "<title>4403519048</title>\n",
       "<polygon fill=\"none\" points=\"356.6587,-.5 356.6587,-36.5 492.8071,-36.5 492.8071,-.5 356.6587,-.5\" stroke=\"#000000\"/>\n",
       "<text fill=\"#000000\" font-family=\"Times,serif\" font-size=\"14.00\" text-anchor=\"middle\" x=\"424.7329\" y=\"-14.3\">length_output: Dense</text>\n",
       "</g>\n",
       "<!-- 103538765104&#45;&gt;4403519048 -->\n",
       "<g class=\"edge\" id=\"edge9\">\n",
       "<title>103538765104-&gt;4403519048</title>\n",
       "<path d=\"M368.2722,-73.4551C377.4671,-64.5054 388.7258,-53.547 398.7634,-43.7769\" fill=\"none\" stroke=\"#000000\"/>\n",
       "<polygon fill=\"#000000\" points=\"401.4221,-46.0734 406.1469,-36.5904 396.5397,-41.0572 401.4221,-46.0734\" stroke=\"#000000\"/>\n",
       "</g>\n",
       "</g>\n",
       "</svg>"
      ],
      "text/plain": [
       "<IPython.core.display.SVG object>"
      ]
     },
     "execution_count": 13,
     "metadata": {},
     "output_type": "execute_result"
    }
   ],
   "source": [
    "SVG(model_to_dot(model).create(prog='dot', format='svg'))"
   ]
  },
  {
   "cell_type": "code",
   "execution_count": 14,
   "metadata": {
    "collapsed": true
   },
   "outputs": [],
   "source": [
    "# learning rate schedule\n",
    "def step_decay(epoch):\n",
    "\tinitial_lrate = 0.1\n",
    "\tdrop = 0.6\n",
    "\tepochs_drop = 25\n",
    "\tlrate = initial_lrate * math.pow(drop, math.floor((1+epoch)/epochs_drop))\n",
    "\treturn lrate"
   ]
  },
  {
   "cell_type": "code",
   "execution_count": 15,
   "metadata": {
    "collapsed": true
   },
   "outputs": [],
   "source": [
    "def listen_callback(epoch, logs):\n",
    "    if epoch % 100 == 0 and epoch > -1: \n",
    "    # if epoch < -2:\n",
    "        print('----- Generating melody after Epoch: %d' % epoch)\n",
    "        \n",
    "        start_index = random.randint(0, 7000)\n",
    "        for diversity in [0.5]:\n",
    "            print('----- diversity:', diversity)\n",
    "\n",
    "            current_note_phrase = notes_corpus[start_index: start_index + n_time_steps]\n",
    "            current_interval_phrase = interval_corpus[start_index: start_index + n_time_steps]\n",
    "            current_note_name_phrase = note_name_corpus[start_index: start_index + n_time_steps]\n",
    "            current_length_phrase = length_corpus[start_index: start_index + n_time_steps]\n",
    "\n",
    "            phrases = {\n",
    "                'note_phrase': current_note_phrase, \n",
    "                'length_phrase': current_length_phrase,\n",
    "                'interval_phrase': current_interval_phrase,\n",
    "                'note_name_phrase': current_note_name_phrase,\n",
    "            }\n",
    "\n",
    "            generated_notes = []\n",
    "            generated_lengths = []\n",
    "            generated_notes.extend(current_note_phrase)\n",
    "            generated_lengths.extend(current_length_phrase)\n",
    "\n",
    "            # model, phrases,categorized_variables, lookup_indicies, n_time_steps, diversity, n_to_generate\n",
    "            for step in range(40):\n",
    "                encoded_prediction = make_encoded_prediction(\n",
    "                    model=model,\n",
    "                    phrases=phrases,\n",
    "                    categorized_variables=categorized_variables,\n",
    "                    lookup_indicies=lookup_indicies,\n",
    "                    n_time_steps=n_time_steps\n",
    "                )\n",
    "\n",
    "                predictions = decode_predictions(\n",
    "                    encoded_prediction=encoded_prediction,\n",
    "                    lookup_indicies=lookup_indicies,\n",
    "                    temperature=diversity\n",
    "                )\n",
    "\n",
    "                generated_notes.append(predictions['note_prediction']) \n",
    "                generated_lengths.append(predictions['length_prediction']) \n",
    "\n",
    "\n",
    "                last = generated_notes[0]\n",
    "                phrases['note_phrase'] = np.append(phrases['note_phrase'][1:], predictions['note_prediction'])\n",
    "                phrases['interval_phrase'] = map_midi_to_interval(phrases['note_phrase'], last)\n",
    "                phrases['note_name_phrase'] = map_midi_to_note_number(phrases['note_phrase'])\n",
    "                phrases['length_phrase'] = np.append(phrases['length_phrase'][1:], predictions['length_prediction'])\n",
    "\n",
    "                print\n",
    "                \n",
    "            play_generated_phrase(\n",
    "                generated_notes=generated_notes[10:],\n",
    "                generated_lengths=generated_lengths[10:],\n",
    "                player=player)"
   ]
  },
  {
   "cell_type": "code",
   "execution_count": 16,
   "metadata": {
    "collapsed": true
   },
   "outputs": [],
   "source": [
    "lrate = LearningRateScheduler(step_decay)"
   ]
  },
  {
   "cell_type": "code",
   "execution_count": 17,
   "metadata": {
    "collapsed": true
   },
   "outputs": [],
   "source": [
    "tensorboard = TensorBoard(log_dir=\"./logs/{}\".format(datetime.datetime.now()), histogram_freq=0, write_graph=True)"
   ]
  },
  {
   "cell_type": "code",
   "execution_count": 18,
   "metadata": {
    "collapsed": true
   },
   "outputs": [],
   "source": [
    "listen_callback = LambdaCallback(on_epoch_end=listen_callback)"
   ]
  },
  {
   "cell_type": "code",
   "execution_count": null,
   "metadata": {
    "scrolled": false
   },
   "outputs": [
    {
     "name": "stdout",
     "output_type": "stream",
     "text": [
      "          **********************************\n",
      "            TRAINING\n",
      "          **********************************\n",
      "Epoch 1/1500\n",
      "46592/46607 [============================>.] - ETA: 0s - loss: 5.3087 - note_output_loss: 3.5016 - length_output_loss: 3.6142----- Generating melody after Epoch: 0\n",
      "----- diversity: 0.5\n",
      "65.0 | 0.33\n",
      "62.0 | 0.23\n",
      "58.0 | 0.28\n",
      "57.0 | 1.1\n",
      "62.0 | 0.37\n",
      "59.0 | 0.14\n",
      "55.0 | 0.37\n",
      "54.0 | 0.93\n",
      "58.0 | 0.37\n",
      "55.0 | 0.14\n",
      "51.0 | 0.19\n",
      "50.0 | 0.56\n",
      "0 | 1.3\n",
      "56.0 | 0.33\n",
      "53.0 | 0.28\n",
      "48.0 | 1.2\n",
      "54.0 | 0.32\n",
      "51.0 | 0.23\n",
      "47.0 | 0.28\n",
      "46.0 | 0.88\n",
      "66 | 0.33\n",
      "66 | 0.42\n",
      "65 | 0.23\n",
      "60 | 0.46\n",
      "67 | 0.37\n",
      "65 | 0.7\n",
      "0 | 0.37\n",
      "0 | 0.46\n",
      "58 | 0.19\n",
      "58 | 0.23\n",
      "57 | 0.37\n",
      "0 | 0.51\n",
      "0 | 0.32\n",
      "0 | 0.42\n",
      "60 | 0.46\n",
      "0 | 0.51\n",
      "52 | 0.7\n",
      "60 | 0.37\n",
      "52 | 0.42\n",
      "62 | 0.33\n",
      "58 | 0.46\n",
      "0 | 0.42\n",
      "0 | 0.33\n",
      "0 | 0.28\n",
      "55 | 0.33\n",
      "0 | 0.37\n",
      "0 | 0.37\n",
      "0 | 0.28\n",
      "62 | 0.42\n",
      "54 | 0.28\n",
      "0 | 0.33\n",
      "62 | 0.37\n",
      "58 | 0.42\n",
      "67 | 0.33\n",
      "0 | 0.46\n",
      "63 | 0.46\n",
      "58 | 0.51\n",
      "0 | 0.42\n",
      "60 | 0.51\n",
      "66 | 0.23\n",
      "46607/46607 [==============================] - 67s 1ms/step - loss: 5.3085 - note_output_loss: 3.5015 - length_output_loss: 3.6140\n",
      "Epoch 2/1500\n",
      "46607/46607 [==============================] - 40s 850us/step - loss: 4.7118 - note_output_loss: 3.1120 - length_output_loss: 3.1996\n",
      "Epoch 3/1500\n",
      "46607/46607 [==============================] - 46s 979us/step - loss: 4.6938 - note_output_loss: 3.0959 - length_output_loss: 3.1958\n",
      "Epoch 4/1500\n",
      "46607/46607 [==============================] - 42s 894us/step - loss: 4.6229 - note_output_loss: 3.0330 - length_output_loss: 3.1798\n",
      "Epoch 5/1500\n",
      "46607/46607 [==============================] - 48s 1ms/step - loss: 4.4941 - note_output_loss: 2.9253 - length_output_loss: 3.1377\n",
      "Epoch 6/1500\n",
      "46607/46607 [==============================] - 41s 885us/step - loss: 4.3986 - note_output_loss: 2.8397 - length_output_loss: 3.1178\n",
      "Epoch 7/1500\n",
      "46607/46607 [==============================] - 47s 1ms/step - loss: 4.3334 - note_output_loss: 2.7801 - length_output_loss: 3.1066\n",
      "Epoch 8/1500\n",
      "46607/46607 [==============================] - 45s 975us/step - loss: 4.2789 - note_output_loss: 2.7290 - length_output_loss: 3.0997\n",
      "Epoch 9/1500\n",
      "46607/46607 [==============================] - 45s 973us/step - loss: 4.2362 - note_output_loss: 2.6880 - length_output_loss: 3.0965\n",
      "Epoch 10/1500\n",
      "46607/46607 [==============================] - 49s 1ms/step - loss: 4.2045 - note_output_loss: 2.6580 - length_output_loss: 3.0929\n",
      "Epoch 11/1500\n",
      "46607/46607 [==============================] - 48s 1ms/step - loss: 4.1737 - note_output_loss: 2.6309 - length_output_loss: 3.0857\n",
      "Epoch 12/1500\n",
      "46607/46607 [==============================] - 54s 1ms/step - loss: 4.1486 - note_output_loss: 2.6091 - length_output_loss: 3.0790\n",
      "Epoch 13/1500\n",
      "46607/46607 [==============================] - 49s 1ms/step - loss: 4.1251 - note_output_loss: 2.5878 - length_output_loss: 3.0744\n",
      "Epoch 14/1500\n",
      "46607/46607 [==============================] - 50s 1ms/step - loss: 4.1019 - note_output_loss: 2.5674 - length_output_loss: 3.0692\n",
      "Epoch 15/1500\n",
      "46607/46607 [==============================] - 48s 1ms/step - loss: 4.0838 - note_output_loss: 2.5512 - length_output_loss: 3.0652\n",
      "Epoch 16/1500\n",
      "46607/46607 [==============================] - 47s 1ms/step - loss: 4.0656 - note_output_loss: 2.5355 - length_output_loss: 3.0602\n",
      "Epoch 17/1500\n",
      "46607/46607 [==============================] - 45s 974us/step - loss: 4.0501 - note_output_loss: 2.5222 - length_output_loss: 3.0559\n",
      "Epoch 18/1500\n",
      "46607/46607 [==============================] - 42s 894us/step - loss: 4.0387 - note_output_loss: 2.5124 - length_output_loss: 3.0526\n",
      "Epoch 19/1500\n",
      "46607/46607 [==============================] - 42s 907us/step - loss: 4.0237 - note_output_loss: 2.4987 - length_output_loss: 3.0500\n",
      "Epoch 20/1500\n",
      "46607/46607 [==============================] - 43s 917us/step - loss: 4.0109 - note_output_loss: 2.4880 - length_output_loss: 3.0458\n",
      "Epoch 21/1500\n",
      "46607/46607 [==============================] - 49s 1ms/step - loss: 4.0013 - note_output_loss: 2.4794 - length_output_loss: 3.0437\n",
      "Epoch 22/1500\n",
      "46607/46607 [==============================] - 44s 954us/step - loss: 3.9922 - note_output_loss: 2.4718 - length_output_loss: 3.0406\n",
      "Epoch 23/1500\n",
      "46607/46607 [==============================] - 49s 1ms/step - loss: 3.9772 - note_output_loss: 2.4584 - length_output_loss: 3.0377\n",
      "Epoch 24/1500\n",
      "46607/46607 [==============================] - 51s 1ms/step - loss: 3.9689 - note_output_loss: 2.4521 - length_output_loss: 3.0336\n",
      "Epoch 25/1500\n",
      "46607/46607 [==============================] - 42s 906us/step - loss: 3.9615 - note_output_loss: 2.4459 - length_output_loss: 3.03120s - loss: 3.9618 - note_output_loss: 2.4463 - length_output_loss: 3.03\n",
      "Epoch 26/1500\n",
      "46607/46607 [==============================] - 47s 1ms/step - loss: 3.9508 - note_output_loss: 2.4371 - length_output_loss: 3.0274\n",
      "Epoch 27/1500\n",
      "22528/46607 [=============>................] - ETA: 25s - loss: 3.9399 - note_output_loss: 2.4243 - length_output_loss: 3.0311"
     ]
    }
   ],
   "source": [
    "logger('TRAINING')\n",
    "model.fit([note_x, note_name_x, interval_x, length_x], [note_y, length_y],\n",
    "          batch_size=batch_size,\n",
    "          epochs=1500,\n",
    "          callbacks=[\n",
    "              listen_callback,\n",
    "#               tensorboard,\n",
    "            ]\n",
    "          )"
   ]
  },
  {
   "cell_type": "code",
   "execution_count": 36,
   "metadata": {},
   "outputs": [
    {
     "name": "stdout",
     "output_type": "stream",
     "text": [
      "Saved model_2.json and model_2.h5 to disk\n"
     ]
    }
   ],
   "source": [
    "save_model(model, 'model_2')"
   ]
  },
  {
   "cell_type": "code",
   "execution_count": null,
   "metadata": {
    "collapsed": true
   },
   "outputs": [],
   "source": []
  }
 ],
 "metadata": {
  "kernelspec": {
   "display_name": "Python 3",
   "language": "python",
   "name": "python3"
  },
  "language_info": {
   "codemirror_mode": {
    "name": "ipython",
    "version": 3
   },
   "file_extension": ".py",
   "mimetype": "text/x-python",
   "name": "python",
   "nbconvert_exporter": "python",
   "pygments_lexer": "ipython3",
   "version": "3.6.5"
  }
 },
 "nbformat": 4,
 "nbformat_minor": 1
}
